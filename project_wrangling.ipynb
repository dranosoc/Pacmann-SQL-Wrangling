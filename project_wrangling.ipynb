{
 "cells": [
  {
   "cell_type": "code",
   "execution_count": 1,
   "id": "3cb6cec9-e7c5-4faf-9f29-7640de7de8c7",
   "metadata": {},
   "outputs": [],
   "source": [
    "import pandas as pd\n",
    "import sqlite3\n",
    "import seaborn as sns\n",
    "import matplotlib.pyplot as plt\n",
    "import numpy as np\n",
    "pd.set_option('display.max_columns',None)\n",
    "pd.set_option('display.max_row',60)"
   ]
  },
  {
   "cell_type": "code",
   "execution_count": 2,
   "id": "37f8dbd7-3c8c-4ec8-9874-a5695fa75d48",
   "metadata": {},
   "outputs": [],
   "source": [
    "def get_result(query):\n",
    "    conn = sqlite3.connect('dataset/olist.db')\n",
    "    cursor = conn.cursor()\n",
    "    cursor.execute(query)\n",
    "    data = cursor.fetchall()\n",
    "    conn.close()\n",
    "    return data\n",
    "\n",
    "def create_df(data, columns):\n",
    "    return pd.DataFrame(data = data, columns = columns).drop(['index'], axis =1)"
   ]
  },
  {
   "cell_type": "code",
   "execution_count": 3,
   "id": "39bf4d17-0df4-4a3a-9524-e13dfcafcef2",
   "metadata": {},
   "outputs": [],
   "source": [
    "olist_order_payments_dataset = create_df(get_result('select * from olist_order_payments_dataset'),\n",
    "                                         ['index',\n",
    "                                          'order_id',\n",
    "                                          'payment_sequential',\n",
    "                                          'payment_type',\n",
    "                                          'payment_installments',\n",
    "                                          'payment_value'\n",
    "                                         ])\n",
    "olist_order_dataset = create_df(get_result('select * from olist_order_dataset'),\n",
    "                                ['index',\n",
    "                                 'order_id',\n",
    "                                 'customer_id',\n",
    "                                 'order_status',\n",
    "                                 'order_purchase_timestamp',\n",
    "                                 'order_approved_at',\n",
    "                                 'order_delivered_carrier_date',\n",
    "                                 'order_delivered_customer_date',\n",
    "                                 'order_estimated_delivery_date'\n",
    "                                ])\n",
    "\n",
    "olist_order_customer_dataset = create_df(get_result('select * from olist_order_customer_dataset'),\n",
    "                                         ['index',\n",
    "                                          'customers_id',\n",
    "                                          'customers_uniq_id',\n",
    "                                          'customer_zip_code_prefix',\n",
    "                                          'customer_city',\n",
    "                                          'customer_state'\n",
    "                                         ])\n",
    "olist_order_items_dataset = create_df(get_result('select * from olist_order_items_dataset'),\n",
    "                                      ['index',\n",
    "                                       'order_id',\n",
    "                                       'order_item_id',\n",
    "                                       'product_id',\n",
    "                                       'seller_id',\n",
    "                                       'shipping_limit_date',\n",
    "                                       'price',\n",
    "                                       'freight_value'\n",
    "                                      ])\n",
    "olist_products_dataset = create_df(get_result('select * from olist_products_dataset'),\n",
    "                                   ['index',\n",
    "                                    'product_id',\n",
    "                                    'product_category_name',\n",
    "                                    'product_name_length',\n",
    "                                    'product_description_length',\n",
    "                                    'product_photos_qty',\n",
    "                                    'product_weight_g',\n",
    "                                    'product_length_cm',\n",
    "                                    'product_height_cm',\n",
    "                                    'product_width_cm'\n",
    "                                   ])\n",
    "product_category_name_translation = create_df(get_result('select * from product_category_name_translation'),\n",
    "                                             ['index',\n",
    "                                              'product_category_name',\n",
    "                                              'product_category_name_english'\n",
    "                                             ])"
   ]
  },
  {
   "cell_type": "code",
   "execution_count": 4,
   "id": "0287a57a-8978-4fc7-8bfb-56ae66a03e0a",
   "metadata": {},
   "outputs": [],
   "source": [
    "products = olist_products_dataset\n",
    "order_items = olist_order_items_dataset\n",
    "order = olist_order_dataset\n",
    "payments = olist_order_payments_dataset\n",
    "customer = olist_order_customer_dataset\n"
   ]
  },
  {
   "cell_type": "markdown",
   "id": "055afe8e-4b4b-4398-8f3d-dc3a392c796f",
   "metadata": {
    "tags": []
   },
   "source": [
    "## Cleaning"
   ]
  },
  {
   "cell_type": "markdown",
   "id": "ca85da67-eb02-4282-b029-2e5ead887532",
   "metadata": {
    "jp-MarkdownHeadingCollapsed": true,
    "tags": []
   },
   "source": [
    "#### Tabel Produk: Menerjemahkan Nama Kategori Produk"
   ]
  },
  {
   "cell_type": "code",
   "execution_count": 5,
   "id": "84776434-f5f4-43ef-aab1-d2c7cec1e117",
   "metadata": {},
   "outputs": [],
   "source": [
    "products = pd.merge(products, product_category_name_translation, on='product_category_name',how='left')"
   ]
  },
  {
   "cell_type": "code",
   "execution_count": 6,
   "id": "735515e2-07d5-40e4-806c-17c949663fbd",
   "metadata": {},
   "outputs": [
    {
     "name": "stdout",
     "output_type": "stream",
     "text": [
      "<class 'pandas.core.frame.DataFrame'>\n",
      "Int64Index: 32951 entries, 0 to 32950\n",
      "Data columns (total 10 columns):\n",
      " #   Column                         Non-Null Count  Dtype  \n",
      "---  ------                         --------------  -----  \n",
      " 0   product_id                     32951 non-null  object \n",
      " 1   product_category_name          32341 non-null  object \n",
      " 2   product_name_length            32341 non-null  float64\n",
      " 3   product_description_length     32341 non-null  float64\n",
      " 4   product_photos_qty             32341 non-null  float64\n",
      " 5   product_weight_g               32949 non-null  float64\n",
      " 6   product_length_cm              32949 non-null  float64\n",
      " 7   product_height_cm              32949 non-null  float64\n",
      " 8   product_width_cm               32949 non-null  float64\n",
      " 9   product_category_name_english  32328 non-null  object \n",
      "dtypes: float64(7), object(3)\n",
      "memory usage: 2.8+ MB\n"
     ]
    }
   ],
   "source": [
    "products.info()"
   ]
  },
  {
   "cell_type": "code",
   "execution_count": 7,
   "id": "dc0c0b6d-a459-4c29-a571-3660994fb567",
   "metadata": {
    "tags": []
   },
   "outputs": [
    {
     "data": {
      "text/html": [
       "<div>\n",
       "<style scoped>\n",
       "    .dataframe tbody tr th:only-of-type {\n",
       "        vertical-align: middle;\n",
       "    }\n",
       "\n",
       "    .dataframe tbody tr th {\n",
       "        vertical-align: top;\n",
       "    }\n",
       "\n",
       "    .dataframe thead th {\n",
       "        text-align: right;\n",
       "    }\n",
       "</style>\n",
       "<table border=\"1\" class=\"dataframe\">\n",
       "  <thead>\n",
       "    <tr style=\"text-align: right;\">\n",
       "      <th></th>\n",
       "      <th>product_category_name</th>\n",
       "      <th>product_category_name_english</th>\n",
       "    </tr>\n",
       "  </thead>\n",
       "  <tbody>\n",
       "    <tr>\n",
       "      <th>1628</th>\n",
       "      <td>pc_gamer</td>\n",
       "      <td>NaN</td>\n",
       "    </tr>\n",
       "    <tr>\n",
       "      <th>5821</th>\n",
       "      <td>portateis_cozinha_e_preparadores_de_alimentos</td>\n",
       "      <td>NaN</td>\n",
       "    </tr>\n",
       "    <tr>\n",
       "      <th>7325</th>\n",
       "      <td>portateis_cozinha_e_preparadores_de_alimentos</td>\n",
       "      <td>NaN</td>\n",
       "    </tr>\n",
       "    <tr>\n",
       "      <th>7478</th>\n",
       "      <td>pc_gamer</td>\n",
       "      <td>NaN</td>\n",
       "    </tr>\n",
       "    <tr>\n",
       "      <th>8819</th>\n",
       "      <td>portateis_cozinha_e_preparadores_de_alimentos</td>\n",
       "      <td>NaN</td>\n",
       "    </tr>\n",
       "    <tr>\n",
       "      <th>11039</th>\n",
       "      <td>portateis_cozinha_e_preparadores_de_alimentos</td>\n",
       "      <td>NaN</td>\n",
       "    </tr>\n",
       "    <tr>\n",
       "      <th>14266</th>\n",
       "      <td>portateis_cozinha_e_preparadores_de_alimentos</td>\n",
       "      <td>NaN</td>\n",
       "    </tr>\n",
       "    <tr>\n",
       "      <th>16182</th>\n",
       "      <td>portateis_cozinha_e_preparadores_de_alimentos</td>\n",
       "      <td>NaN</td>\n",
       "    </tr>\n",
       "    <tr>\n",
       "      <th>16930</th>\n",
       "      <td>pc_gamer</td>\n",
       "      <td>NaN</td>\n",
       "    </tr>\n",
       "    <tr>\n",
       "      <th>17800</th>\n",
       "      <td>portateis_cozinha_e_preparadores_de_alimentos</td>\n",
       "      <td>NaN</td>\n",
       "    </tr>\n",
       "    <tr>\n",
       "      <th>18610</th>\n",
       "      <td>portateis_cozinha_e_preparadores_de_alimentos</td>\n",
       "      <td>NaN</td>\n",
       "    </tr>\n",
       "    <tr>\n",
       "      <th>26890</th>\n",
       "      <td>portateis_cozinha_e_preparadores_de_alimentos</td>\n",
       "      <td>NaN</td>\n",
       "    </tr>\n",
       "    <tr>\n",
       "      <th>29919</th>\n",
       "      <td>portateis_cozinha_e_preparadores_de_alimentos</td>\n",
       "      <td>NaN</td>\n",
       "    </tr>\n",
       "  </tbody>\n",
       "</table>\n",
       "</div>"
      ],
      "text/plain": [
       "                               product_category_name  \\\n",
       "1628                                        pc_gamer   \n",
       "5821   portateis_cozinha_e_preparadores_de_alimentos   \n",
       "7325   portateis_cozinha_e_preparadores_de_alimentos   \n",
       "7478                                        pc_gamer   \n",
       "8819   portateis_cozinha_e_preparadores_de_alimentos   \n",
       "11039  portateis_cozinha_e_preparadores_de_alimentos   \n",
       "14266  portateis_cozinha_e_preparadores_de_alimentos   \n",
       "16182  portateis_cozinha_e_preparadores_de_alimentos   \n",
       "16930                                       pc_gamer   \n",
       "17800  portateis_cozinha_e_preparadores_de_alimentos   \n",
       "18610  portateis_cozinha_e_preparadores_de_alimentos   \n",
       "26890  portateis_cozinha_e_preparadores_de_alimentos   \n",
       "29919  portateis_cozinha_e_preparadores_de_alimentos   \n",
       "\n",
       "      product_category_name_english  \n",
       "1628                            NaN  \n",
       "5821                            NaN  \n",
       "7325                            NaN  \n",
       "7478                            NaN  \n",
       "8819                            NaN  \n",
       "11039                           NaN  \n",
       "14266                           NaN  \n",
       "16182                           NaN  \n",
       "16930                           NaN  \n",
       "17800                           NaN  \n",
       "18610                           NaN  \n",
       "26890                           NaN  \n",
       "29919                           NaN  "
      ]
     },
     "execution_count": 7,
     "metadata": {},
     "output_type": "execute_result"
    }
   ],
   "source": [
    "products[['product_category_name','product_category_name_english']][(products['product_category_name'].notnull()) & (products['product_category_name_english'].isnull())]"
   ]
  },
  {
   "cell_type": "code",
   "execution_count": 8,
   "id": "9e084e7a-6083-497c-b761-287dd91d1cd4",
   "metadata": {},
   "outputs": [],
   "source": [
    "products.loc[products['product_category_name']=='pc_gamer','product_category_name_english'] = products.loc[products['product_category_name']=='pc_gamer','product_category_name_english'].fillna('pc_game')\n",
    "products.loc[products['product_category_name']=='portateis_cozinha_e_preparadores_de_alimentos','product_category_name_english'] = products.loc[products['product_category_name']=='portateis_cozinha_e_preparadores_de_alimentos','product_category_name_english'].fillna('portable_kitchen_food_preparers')"
   ]
  },
  {
   "cell_type": "code",
   "execution_count": 9,
   "id": "d84ab74b-d9f9-45dc-ad6a-fd87a2c621ca",
   "metadata": {},
   "outputs": [
    {
     "data": {
      "text/html": [
       "<div>\n",
       "<style scoped>\n",
       "    .dataframe tbody tr th:only-of-type {\n",
       "        vertical-align: middle;\n",
       "    }\n",
       "\n",
       "    .dataframe tbody tr th {\n",
       "        vertical-align: top;\n",
       "    }\n",
       "\n",
       "    .dataframe thead th {\n",
       "        text-align: right;\n",
       "    }\n",
       "</style>\n",
       "<table border=\"1\" class=\"dataframe\">\n",
       "  <thead>\n",
       "    <tr style=\"text-align: right;\">\n",
       "      <th></th>\n",
       "      <th>product_id</th>\n",
       "      <th>product_category_name</th>\n",
       "      <th>product_name_length</th>\n",
       "      <th>product_description_length</th>\n",
       "      <th>product_photos_qty</th>\n",
       "      <th>product_weight_g</th>\n",
       "      <th>product_length_cm</th>\n",
       "      <th>product_height_cm</th>\n",
       "      <th>product_width_cm</th>\n",
       "      <th>product_category_name_english</th>\n",
       "    </tr>\n",
       "  </thead>\n",
       "  <tbody>\n",
       "    <tr>\n",
       "      <th>1628</th>\n",
       "      <td>0105b5323d24fc655f73052694dbbb3a</td>\n",
       "      <td>pc_gamer</td>\n",
       "      <td>59.0</td>\n",
       "      <td>621.0</td>\n",
       "      <td>4.0</td>\n",
       "      <td>2839.0</td>\n",
       "      <td>19.0</td>\n",
       "      <td>16.0</td>\n",
       "      <td>18.0</td>\n",
       "      <td>pc_game</td>\n",
       "    </tr>\n",
       "    <tr>\n",
       "      <th>7478</th>\n",
       "      <td>6727051471a0fc4a0e7737b57bff2549</td>\n",
       "      <td>pc_gamer</td>\n",
       "      <td>60.0</td>\n",
       "      <td>1532.0</td>\n",
       "      <td>3.0</td>\n",
       "      <td>650.0</td>\n",
       "      <td>16.0</td>\n",
       "      <td>22.0</td>\n",
       "      <td>20.0</td>\n",
       "      <td>pc_game</td>\n",
       "    </tr>\n",
       "    <tr>\n",
       "      <th>16930</th>\n",
       "      <td>dbe520fb381ad695a7e1f2807d20c765</td>\n",
       "      <td>pc_gamer</td>\n",
       "      <td>60.0</td>\n",
       "      <td>840.0</td>\n",
       "      <td>6.0</td>\n",
       "      <td>800.0</td>\n",
       "      <td>18.0</td>\n",
       "      <td>22.0</td>\n",
       "      <td>22.0</td>\n",
       "      <td>pc_game</td>\n",
       "    </tr>\n",
       "  </tbody>\n",
       "</table>\n",
       "</div>"
      ],
      "text/plain": [
       "                             product_id product_category_name  \\\n",
       "1628   0105b5323d24fc655f73052694dbbb3a              pc_gamer   \n",
       "7478   6727051471a0fc4a0e7737b57bff2549              pc_gamer   \n",
       "16930  dbe520fb381ad695a7e1f2807d20c765              pc_gamer   \n",
       "\n",
       "       product_name_length  product_description_length  product_photos_qty  \\\n",
       "1628                  59.0                       621.0                 4.0   \n",
       "7478                  60.0                      1532.0                 3.0   \n",
       "16930                 60.0                       840.0                 6.0   \n",
       "\n",
       "       product_weight_g  product_length_cm  product_height_cm  \\\n",
       "1628             2839.0               19.0               16.0   \n",
       "7478              650.0               16.0               22.0   \n",
       "16930             800.0               18.0               22.0   \n",
       "\n",
       "       product_width_cm product_category_name_english  \n",
       "1628               18.0                       pc_game  \n",
       "7478               20.0                       pc_game  \n",
       "16930              22.0                       pc_game  "
      ]
     },
     "execution_count": 9,
     "metadata": {},
     "output_type": "execute_result"
    }
   ],
   "source": [
    "products[products['product_category_name_english']=='pc_game']"
   ]
  },
  {
   "cell_type": "code",
   "execution_count": 10,
   "id": "4708ba75-4b90-4488-92cb-88b65e9c8a46",
   "metadata": {
    "tags": []
   },
   "outputs": [
    {
     "name": "stdout",
     "output_type": "stream",
     "text": [
      "<class 'pandas.core.frame.DataFrame'>\n",
      "Int64Index: 32951 entries, 0 to 32950\n",
      "Data columns (total 10 columns):\n",
      " #   Column                         Non-Null Count  Dtype  \n",
      "---  ------                         --------------  -----  \n",
      " 0   product_id                     32951 non-null  object \n",
      " 1   product_category_name          32341 non-null  object \n",
      " 2   product_name_length            32341 non-null  float64\n",
      " 3   product_description_length     32341 non-null  float64\n",
      " 4   product_photos_qty             32341 non-null  float64\n",
      " 5   product_weight_g               32949 non-null  float64\n",
      " 6   product_length_cm              32949 non-null  float64\n",
      " 7   product_height_cm              32949 non-null  float64\n",
      " 8   product_width_cm               32949 non-null  float64\n",
      " 9   product_category_name_english  32341 non-null  object \n",
      "dtypes: float64(7), object(3)\n",
      "memory usage: 2.8+ MB\n"
     ]
    }
   ],
   "source": [
    "products.info()"
   ]
  },
  {
   "cell_type": "markdown",
   "id": "68d8fe0a-5cac-41b5-9813-c94764cec274",
   "metadata": {
    "tags": []
   },
   "source": [
    "#### Tabel Produk: Handling Missing Value"
   ]
  },
  {
   "cell_type": "code",
   "execution_count": 11,
   "id": "b3fdedd8-ace1-4f98-80b0-2cd7c1ab1558",
   "metadata": {},
   "outputs": [
    {
     "data": {
      "text/plain": [
       "product_id                         0\n",
       "product_category_name            610\n",
       "product_name_length              610\n",
       "product_description_length       610\n",
       "product_photos_qty               610\n",
       "product_weight_g                   2\n",
       "product_length_cm                  2\n",
       "product_height_cm                  2\n",
       "product_width_cm                   2\n",
       "product_category_name_english    610\n",
       "dtype: int64"
      ]
     },
     "execution_count": 11,
     "metadata": {},
     "output_type": "execute_result"
    }
   ],
   "source": [
    "products.isna().sum()"
   ]
  },
  {
   "cell_type": "code",
   "execution_count": 12,
   "id": "79cc0cdb-095c-4eba-97f4-a7b0fd3589e1",
   "metadata": {},
   "outputs": [],
   "source": [
    "products = products.dropna()"
   ]
  },
  {
   "cell_type": "code",
   "execution_count": 13,
   "id": "7309d778-6751-4a88-a03e-ca55d0969743",
   "metadata": {},
   "outputs": [
    {
     "data": {
      "text/plain": [
       "product_id                       0\n",
       "product_category_name            0\n",
       "product_name_length              0\n",
       "product_description_length       0\n",
       "product_photos_qty               0\n",
       "product_weight_g                 0\n",
       "product_length_cm                0\n",
       "product_height_cm                0\n",
       "product_width_cm                 0\n",
       "product_category_name_english    0\n",
       "dtype: int64"
      ]
     },
     "execution_count": 13,
     "metadata": {},
     "output_type": "execute_result"
    }
   ],
   "source": [
    "products.isna().sum()"
   ]
  },
  {
   "cell_type": "markdown",
   "id": "e0c095a4-52a3-4aad-bee2-9fde2f68ee5e",
   "metadata": {
    "tags": []
   },
   "source": [
    "#### Tabel Produk: Identifikasi Data Duplikat"
   ]
  },
  {
   "cell_type": "code",
   "execution_count": 14,
   "id": "f9bd6650-7f94-4a4f-81ac-7aab9d3b1d3d",
   "metadata": {},
   "outputs": [
    {
     "data": {
      "text/plain": [
       "0"
      ]
     },
     "execution_count": 14,
     "metadata": {},
     "output_type": "execute_result"
    }
   ],
   "source": [
    "products.duplicated().sum()"
   ]
  },
  {
   "cell_type": "code",
   "execution_count": 15,
   "id": "6b13300c-0219-4cef-90b6-2389d98e56f0",
   "metadata": {},
   "outputs": [
    {
     "data": {
      "text/html": [
       "<div>\n",
       "<style scoped>\n",
       "    .dataframe tbody tr th:only-of-type {\n",
       "        vertical-align: middle;\n",
       "    }\n",
       "\n",
       "    .dataframe tbody tr th {\n",
       "        vertical-align: top;\n",
       "    }\n",
       "\n",
       "    .dataframe thead th {\n",
       "        text-align: right;\n",
       "    }\n",
       "</style>\n",
       "<table border=\"1\" class=\"dataframe\">\n",
       "  <thead>\n",
       "    <tr style=\"text-align: right;\">\n",
       "      <th></th>\n",
       "      <th>product_id</th>\n",
       "      <th>product_category_name</th>\n",
       "      <th>product_name_length</th>\n",
       "      <th>product_description_length</th>\n",
       "      <th>product_photos_qty</th>\n",
       "      <th>product_weight_g</th>\n",
       "      <th>product_length_cm</th>\n",
       "      <th>product_height_cm</th>\n",
       "      <th>product_width_cm</th>\n",
       "      <th>product_category_name_english</th>\n",
       "    </tr>\n",
       "  </thead>\n",
       "  <tbody>\n",
       "    <tr>\n",
       "      <th>0</th>\n",
       "      <td>1e9e8ef04dbcff4541ed26657ea517e5</td>\n",
       "      <td>perfumaria</td>\n",
       "      <td>40.0</td>\n",
       "      <td>287.0</td>\n",
       "      <td>1.0</td>\n",
       "      <td>225.0</td>\n",
       "      <td>16.0</td>\n",
       "      <td>10.0</td>\n",
       "      <td>14.0</td>\n",
       "      <td>perfumery</td>\n",
       "    </tr>\n",
       "    <tr>\n",
       "      <th>1</th>\n",
       "      <td>3aa071139cb16b67ca9e5dea641aaa2f</td>\n",
       "      <td>artes</td>\n",
       "      <td>44.0</td>\n",
       "      <td>276.0</td>\n",
       "      <td>1.0</td>\n",
       "      <td>1000.0</td>\n",
       "      <td>30.0</td>\n",
       "      <td>18.0</td>\n",
       "      <td>20.0</td>\n",
       "      <td>art</td>\n",
       "    </tr>\n",
       "    <tr>\n",
       "      <th>2</th>\n",
       "      <td>96bd76ec8810374ed1b65e291975717f</td>\n",
       "      <td>esporte_lazer</td>\n",
       "      <td>46.0</td>\n",
       "      <td>250.0</td>\n",
       "      <td>1.0</td>\n",
       "      <td>154.0</td>\n",
       "      <td>18.0</td>\n",
       "      <td>9.0</td>\n",
       "      <td>15.0</td>\n",
       "      <td>sports_leisure</td>\n",
       "    </tr>\n",
       "    <tr>\n",
       "      <th>3</th>\n",
       "      <td>cef67bcfe19066a932b7673e239eb23d</td>\n",
       "      <td>bebes</td>\n",
       "      <td>27.0</td>\n",
       "      <td>261.0</td>\n",
       "      <td>1.0</td>\n",
       "      <td>371.0</td>\n",
       "      <td>26.0</td>\n",
       "      <td>4.0</td>\n",
       "      <td>26.0</td>\n",
       "      <td>baby</td>\n",
       "    </tr>\n",
       "    <tr>\n",
       "      <th>4</th>\n",
       "      <td>9dc1a7de274444849c219cff195d0b71</td>\n",
       "      <td>utilidades_domesticas</td>\n",
       "      <td>37.0</td>\n",
       "      <td>402.0</td>\n",
       "      <td>4.0</td>\n",
       "      <td>625.0</td>\n",
       "      <td>20.0</td>\n",
       "      <td>17.0</td>\n",
       "      <td>13.0</td>\n",
       "      <td>housewares</td>\n",
       "    </tr>\n",
       "  </tbody>\n",
       "</table>\n",
       "</div>"
      ],
      "text/plain": [
       "                         product_id  product_category_name  \\\n",
       "0  1e9e8ef04dbcff4541ed26657ea517e5             perfumaria   \n",
       "1  3aa071139cb16b67ca9e5dea641aaa2f                  artes   \n",
       "2  96bd76ec8810374ed1b65e291975717f          esporte_lazer   \n",
       "3  cef67bcfe19066a932b7673e239eb23d                  bebes   \n",
       "4  9dc1a7de274444849c219cff195d0b71  utilidades_domesticas   \n",
       "\n",
       "   product_name_length  product_description_length  product_photos_qty  \\\n",
       "0                 40.0                       287.0                 1.0   \n",
       "1                 44.0                       276.0                 1.0   \n",
       "2                 46.0                       250.0                 1.0   \n",
       "3                 27.0                       261.0                 1.0   \n",
       "4                 37.0                       402.0                 4.0   \n",
       "\n",
       "   product_weight_g  product_length_cm  product_height_cm  product_width_cm  \\\n",
       "0             225.0               16.0               10.0              14.0   \n",
       "1            1000.0               30.0               18.0              20.0   \n",
       "2             154.0               18.0                9.0              15.0   \n",
       "3             371.0               26.0                4.0              26.0   \n",
       "4             625.0               20.0               17.0              13.0   \n",
       "\n",
       "  product_category_name_english  \n",
       "0                     perfumery  \n",
       "1                           art  \n",
       "2                sports_leisure  \n",
       "3                          baby  \n",
       "4                    housewares  "
      ]
     },
     "execution_count": 15,
     "metadata": {},
     "output_type": "execute_result"
    }
   ],
   "source": [
    "products.head()"
   ]
  },
  {
   "cell_type": "code",
   "execution_count": 16,
   "id": "5d77a309-db23-4ea9-b094-8a270d8ddcb2",
   "metadata": {},
   "outputs": [],
   "source": [
    "products = products.rename(columns={'product_category_name': 'product_category_name_portuguese'})\n",
    "products = products.rename(columns={'product_category_name_english': 'product_category_name'})"
   ]
  },
  {
   "cell_type": "code",
   "execution_count": 17,
   "id": "add5cb31-566c-4974-8ab2-8829a90202c8",
   "metadata": {},
   "outputs": [
    {
     "data": {
      "text/html": [
       "<div>\n",
       "<style scoped>\n",
       "    .dataframe tbody tr th:only-of-type {\n",
       "        vertical-align: middle;\n",
       "    }\n",
       "\n",
       "    .dataframe tbody tr th {\n",
       "        vertical-align: top;\n",
       "    }\n",
       "\n",
       "    .dataframe thead th {\n",
       "        text-align: right;\n",
       "    }\n",
       "</style>\n",
       "<table border=\"1\" class=\"dataframe\">\n",
       "  <thead>\n",
       "    <tr style=\"text-align: right;\">\n",
       "      <th></th>\n",
       "      <th>product_id</th>\n",
       "      <th>product_category_name_portuguese</th>\n",
       "      <th>product_name_length</th>\n",
       "      <th>product_description_length</th>\n",
       "      <th>product_photos_qty</th>\n",
       "      <th>product_weight_g</th>\n",
       "      <th>product_length_cm</th>\n",
       "      <th>product_height_cm</th>\n",
       "      <th>product_width_cm</th>\n",
       "      <th>product_category_name</th>\n",
       "    </tr>\n",
       "  </thead>\n",
       "  <tbody>\n",
       "    <tr>\n",
       "      <th>0</th>\n",
       "      <td>1e9e8ef04dbcff4541ed26657ea517e5</td>\n",
       "      <td>perfumaria</td>\n",
       "      <td>40.0</td>\n",
       "      <td>287.0</td>\n",
       "      <td>1.0</td>\n",
       "      <td>225.0</td>\n",
       "      <td>16.0</td>\n",
       "      <td>10.0</td>\n",
       "      <td>14.0</td>\n",
       "      <td>perfumery</td>\n",
       "    </tr>\n",
       "    <tr>\n",
       "      <th>1</th>\n",
       "      <td>3aa071139cb16b67ca9e5dea641aaa2f</td>\n",
       "      <td>artes</td>\n",
       "      <td>44.0</td>\n",
       "      <td>276.0</td>\n",
       "      <td>1.0</td>\n",
       "      <td>1000.0</td>\n",
       "      <td>30.0</td>\n",
       "      <td>18.0</td>\n",
       "      <td>20.0</td>\n",
       "      <td>art</td>\n",
       "    </tr>\n",
       "    <tr>\n",
       "      <th>2</th>\n",
       "      <td>96bd76ec8810374ed1b65e291975717f</td>\n",
       "      <td>esporte_lazer</td>\n",
       "      <td>46.0</td>\n",
       "      <td>250.0</td>\n",
       "      <td>1.0</td>\n",
       "      <td>154.0</td>\n",
       "      <td>18.0</td>\n",
       "      <td>9.0</td>\n",
       "      <td>15.0</td>\n",
       "      <td>sports_leisure</td>\n",
       "    </tr>\n",
       "    <tr>\n",
       "      <th>3</th>\n",
       "      <td>cef67bcfe19066a932b7673e239eb23d</td>\n",
       "      <td>bebes</td>\n",
       "      <td>27.0</td>\n",
       "      <td>261.0</td>\n",
       "      <td>1.0</td>\n",
       "      <td>371.0</td>\n",
       "      <td>26.0</td>\n",
       "      <td>4.0</td>\n",
       "      <td>26.0</td>\n",
       "      <td>baby</td>\n",
       "    </tr>\n",
       "    <tr>\n",
       "      <th>4</th>\n",
       "      <td>9dc1a7de274444849c219cff195d0b71</td>\n",
       "      <td>utilidades_domesticas</td>\n",
       "      <td>37.0</td>\n",
       "      <td>402.0</td>\n",
       "      <td>4.0</td>\n",
       "      <td>625.0</td>\n",
       "      <td>20.0</td>\n",
       "      <td>17.0</td>\n",
       "      <td>13.0</td>\n",
       "      <td>housewares</td>\n",
       "    </tr>\n",
       "  </tbody>\n",
       "</table>\n",
       "</div>"
      ],
      "text/plain": [
       "                         product_id product_category_name_portuguese  \\\n",
       "0  1e9e8ef04dbcff4541ed26657ea517e5                       perfumaria   \n",
       "1  3aa071139cb16b67ca9e5dea641aaa2f                            artes   \n",
       "2  96bd76ec8810374ed1b65e291975717f                    esporte_lazer   \n",
       "3  cef67bcfe19066a932b7673e239eb23d                            bebes   \n",
       "4  9dc1a7de274444849c219cff195d0b71            utilidades_domesticas   \n",
       "\n",
       "   product_name_length  product_description_length  product_photos_qty  \\\n",
       "0                 40.0                       287.0                 1.0   \n",
       "1                 44.0                       276.0                 1.0   \n",
       "2                 46.0                       250.0                 1.0   \n",
       "3                 27.0                       261.0                 1.0   \n",
       "4                 37.0                       402.0                 4.0   \n",
       "\n",
       "   product_weight_g  product_length_cm  product_height_cm  product_width_cm  \\\n",
       "0             225.0               16.0               10.0              14.0   \n",
       "1            1000.0               30.0               18.0              20.0   \n",
       "2             154.0               18.0                9.0              15.0   \n",
       "3             371.0               26.0                4.0              26.0   \n",
       "4             625.0               20.0               17.0              13.0   \n",
       "\n",
       "  product_category_name  \n",
       "0             perfumery  \n",
       "1                   art  \n",
       "2        sports_leisure  \n",
       "3                  baby  \n",
       "4            housewares  "
      ]
     },
     "execution_count": 17,
     "metadata": {},
     "output_type": "execute_result"
    }
   ],
   "source": [
    "products.head()"
   ]
  },
  {
   "cell_type": "markdown",
   "id": "07126e6c-fd2a-4a9f-acaf-b6bcc9369864",
   "metadata": {
    "jp-MarkdownHeadingCollapsed": true,
    "tags": []
   },
   "source": [
    "#### Tabel Produk: Identifikasi Inconsistent Format"
   ]
  },
  {
   "cell_type": "code",
   "execution_count": 18,
   "id": "c73fb534-e9ec-4677-b0d7-ac0af9c546e6",
   "metadata": {},
   "outputs": [
    {
     "data": {
      "text/html": [
       "<div>\n",
       "<style scoped>\n",
       "    .dataframe tbody tr th:only-of-type {\n",
       "        vertical-align: middle;\n",
       "    }\n",
       "\n",
       "    .dataframe tbody tr th {\n",
       "        vertical-align: top;\n",
       "    }\n",
       "\n",
       "    .dataframe thead th {\n",
       "        text-align: right;\n",
       "    }\n",
       "</style>\n",
       "<table border=\"1\" class=\"dataframe\">\n",
       "  <thead>\n",
       "    <tr style=\"text-align: right;\">\n",
       "      <th></th>\n",
       "      <th>index</th>\n",
       "      <th>product_category_name</th>\n",
       "    </tr>\n",
       "  </thead>\n",
       "  <tbody>\n",
       "    <tr>\n",
       "      <th>44</th>\n",
       "      <td>agro_industry_and_commerce</td>\n",
       "      <td>74</td>\n",
       "    </tr>\n",
       "    <tr>\n",
       "      <th>29</th>\n",
       "      <td>air_conditioning</td>\n",
       "      <td>124</td>\n",
       "    </tr>\n",
       "    <tr>\n",
       "      <th>48</th>\n",
       "      <td>art</td>\n",
       "      <td>55</td>\n",
       "    </tr>\n",
       "    <tr>\n",
       "      <th>61</th>\n",
       "      <td>arts_and_craftmanship</td>\n",
       "      <td>19</td>\n",
       "    </tr>\n",
       "    <tr>\n",
       "      <th>47</th>\n",
       "      <td>audio</td>\n",
       "      <td>58</td>\n",
       "    </tr>\n",
       "    <tr>\n",
       "      <th>...</th>\n",
       "      <td>...</td>\n",
       "      <td>...</td>\n",
       "    </tr>\n",
       "    <tr>\n",
       "      <th>12</th>\n",
       "      <td>stationery</td>\n",
       "      <td>849</td>\n",
       "    </tr>\n",
       "    <tr>\n",
       "      <th>67</th>\n",
       "      <td>tablets_printing_image</td>\n",
       "      <td>9</td>\n",
       "    </tr>\n",
       "    <tr>\n",
       "      <th>9</th>\n",
       "      <td>telephony</td>\n",
       "      <td>1134</td>\n",
       "    </tr>\n",
       "    <tr>\n",
       "      <th>7</th>\n",
       "      <td>toys</td>\n",
       "      <td>1411</td>\n",
       "    </tr>\n",
       "    <tr>\n",
       "      <th>8</th>\n",
       "      <td>watches_gifts</td>\n",
       "      <td>1329</td>\n",
       "    </tr>\n",
       "  </tbody>\n",
       "</table>\n",
       "<p>73 rows × 2 columns</p>\n",
       "</div>"
      ],
      "text/plain": [
       "                         index  product_category_name\n",
       "44  agro_industry_and_commerce                     74\n",
       "29            air_conditioning                    124\n",
       "48                         art                     55\n",
       "61       arts_and_craftmanship                     19\n",
       "47                       audio                     58\n",
       "..                         ...                    ...\n",
       "12                  stationery                    849\n",
       "67      tablets_printing_image                      9\n",
       "9                    telephony                   1134\n",
       "7                         toys                   1411\n",
       "8                watches_gifts                   1329\n",
       "\n",
       "[73 rows x 2 columns]"
      ]
     },
     "execution_count": 18,
     "metadata": {},
     "output_type": "execute_result"
    }
   ],
   "source": [
    "pd.DataFrame(products['product_category_name'].value_counts()).head(73).reset_index().sort_values(by='index')"
   ]
  },
  {
   "cell_type": "markdown",
   "id": "ca02d0ae-989c-4bfc-8615-b4a8d0f5d68a",
   "metadata": {
    "jp-MarkdownHeadingCollapsed": true,
    "tags": []
   },
   "source": [
    "#### Tabel Item: Identifikasi Missing Value"
   ]
  },
  {
   "cell_type": "code",
   "execution_count": 19,
   "id": "9358eea3-9cad-49f9-a9dd-72cf2459ddeb",
   "metadata": {},
   "outputs": [
    {
     "data": {
      "text/plain": [
       "order_id               0\n",
       "order_item_id          0\n",
       "product_id             0\n",
       "seller_id              0\n",
       "shipping_limit_date    0\n",
       "price                  0\n",
       "freight_value          0\n",
       "dtype: int64"
      ]
     },
     "execution_count": 19,
     "metadata": {},
     "output_type": "execute_result"
    }
   ],
   "source": [
    "order_items.isna().sum()"
   ]
  },
  {
   "cell_type": "markdown",
   "id": "7ccfc76b-1a4c-425d-b4e4-54f16da21608",
   "metadata": {
    "jp-MarkdownHeadingCollapsed": true,
    "tags": []
   },
   "source": [
    "#### Tabel Item: Identifikasi Inconsistent Format"
   ]
  },
  {
   "cell_type": "code",
   "execution_count": 20,
   "id": "2fea5b19-5f3a-424f-80c2-bb48ccbc00d4",
   "metadata": {},
   "outputs": [
    {
     "name": "stdout",
     "output_type": "stream",
     "text": [
      "<class 'pandas.core.frame.DataFrame'>\n",
      "RangeIndex: 112650 entries, 0 to 112649\n",
      "Data columns (total 7 columns):\n",
      " #   Column               Non-Null Count   Dtype  \n",
      "---  ------               --------------   -----  \n",
      " 0   order_id             112650 non-null  object \n",
      " 1   order_item_id        112650 non-null  int64  \n",
      " 2   product_id           112650 non-null  object \n",
      " 3   seller_id            112650 non-null  object \n",
      " 4   shipping_limit_date  112650 non-null  object \n",
      " 5   price                112650 non-null  float64\n",
      " 6   freight_value        112650 non-null  float64\n",
      "dtypes: float64(2), int64(1), object(4)\n",
      "memory usage: 6.0+ MB\n"
     ]
    }
   ],
   "source": [
    "order_items.info()"
   ]
  },
  {
   "cell_type": "markdown",
   "id": "0012e884-0639-41a9-8d49-9442d9375ff0",
   "metadata": {
    "jp-MarkdownHeadingCollapsed": true,
    "tags": []
   },
   "source": [
    "#### Tabel Item: Identifikasi Data Duplicate"
   ]
  },
  {
   "cell_type": "code",
   "execution_count": 21,
   "id": "0555be50-271f-47c5-bd75-3fbfed55b34b",
   "metadata": {},
   "outputs": [
    {
     "data": {
      "text/plain": [
       "False"
      ]
     },
     "execution_count": 21,
     "metadata": {},
     "output_type": "execute_result"
    }
   ],
   "source": [
    "order_items.duplicated().any()"
   ]
  },
  {
   "cell_type": "markdown",
   "id": "64153002-1818-40e3-b3bb-26e905c60b1b",
   "metadata": {
    "jp-MarkdownHeadingCollapsed": true,
    "tags": []
   },
   "source": [
    "#### Tabel Order: Identifikasi Inconsistent Format"
   ]
  },
  {
   "cell_type": "code",
   "execution_count": 22,
   "id": "fc7c5821-94e3-44f0-9cf9-f76b4a3708cd",
   "metadata": {},
   "outputs": [
    {
     "data": {
      "text/plain": [
       "order_id                         99441\n",
       "customer_id                      99441\n",
       "order_status                         8\n",
       "order_purchase_timestamp         98875\n",
       "order_approved_at                90733\n",
       "order_delivered_carrier_date     81018\n",
       "order_delivered_customer_date    95664\n",
       "order_estimated_delivery_date      459\n",
       "dtype: int64"
      ]
     },
     "execution_count": 22,
     "metadata": {},
     "output_type": "execute_result"
    }
   ],
   "source": [
    "order.nunique()"
   ]
  },
  {
   "cell_type": "code",
   "execution_count": 23,
   "id": "b2143955-4935-44bc-b173-429de9ae221f",
   "metadata": {},
   "outputs": [
    {
     "data": {
      "text/plain": [
       "array(['delivered', 'invoiced', 'shipped', 'processing', 'unavailable',\n",
       "       'canceled', 'created', 'approved'], dtype=object)"
      ]
     },
     "execution_count": 23,
     "metadata": {},
     "output_type": "execute_result"
    }
   ],
   "source": [
    "order['order_status'].unique()"
   ]
  },
  {
   "cell_type": "markdown",
   "id": "e6817dbe-4628-44a7-a65f-ea0c381e702c",
   "metadata": {
    "jp-MarkdownHeadingCollapsed": true,
    "tags": []
   },
   "source": [
    "#### Tabel Order: Identifikasi Duplicate Data"
   ]
  },
  {
   "cell_type": "code",
   "execution_count": 24,
   "id": "5cd7ca23-54f4-4dea-8e4e-a1504cfbb8eb",
   "metadata": {},
   "outputs": [
    {
     "data": {
      "text/plain": [
       "False"
      ]
     },
     "execution_count": 24,
     "metadata": {},
     "output_type": "execute_result"
    }
   ],
   "source": [
    "order.duplicated().any()"
   ]
  },
  {
   "cell_type": "markdown",
   "id": "fcd9f257-0eac-49d9-a752-46257e3946c5",
   "metadata": {
    "jp-MarkdownHeadingCollapsed": true,
    "tags": []
   },
   "source": [
    "#### Tabel Order: Identifikasi Missing Value"
   ]
  },
  {
   "cell_type": "code",
   "execution_count": 25,
   "id": "725c39e0-7961-4e35-b394-9b0ac915cb89",
   "metadata": {},
   "outputs": [
    {
     "data": {
      "text/plain": [
       "order_id                            0\n",
       "customer_id                         0\n",
       "order_status                        0\n",
       "order_purchase_timestamp            0\n",
       "order_approved_at                 160\n",
       "order_delivered_carrier_date     1783\n",
       "order_delivered_customer_date    2965\n",
       "order_estimated_delivery_date       0\n",
       "dtype: int64"
      ]
     },
     "execution_count": 25,
     "metadata": {},
     "output_type": "execute_result"
    }
   ],
   "source": [
    "order.isna().sum()"
   ]
  },
  {
   "cell_type": "code",
   "execution_count": 26,
   "id": "8891748d-016e-40bb-8238-1a1572e7d3e7",
   "metadata": {},
   "outputs": [
    {
     "data": {
      "text/plain": [
       "order_id                         2963\n",
       "customer_id                      2963\n",
       "order_status                     2963\n",
       "order_purchase_timestamp         2963\n",
       "order_approved_at                2817\n",
       "order_delivered_carrier_date     1182\n",
       "order_delivered_customer_date       6\n",
       "order_estimated_delivery_date    2963\n",
       "dtype: int64"
      ]
     },
     "execution_count": 26,
     "metadata": {},
     "output_type": "execute_result"
    }
   ],
   "source": [
    "order[order.order_status != 'delivered'].count()"
   ]
  },
  {
   "cell_type": "code",
   "execution_count": 27,
   "id": "b2be0fea-1274-494d-b974-02d70a1e5c34",
   "metadata": {},
   "outputs": [],
   "source": [
    "order = order.dropna()"
   ]
  },
  {
   "cell_type": "code",
   "execution_count": 28,
   "id": "57dffb3f-7325-449a-90ea-a3d32ed80be5",
   "metadata": {},
   "outputs": [],
   "source": [
    "order = order[order['order_status']=='delivered']"
   ]
  },
  {
   "cell_type": "code",
   "execution_count": 29,
   "id": "1ed120d0-e244-4762-82ec-928856cc1c31",
   "metadata": {},
   "outputs": [
    {
     "data": {
      "text/plain": [
       "order_id                         96455\n",
       "customer_id                      96455\n",
       "order_status                         1\n",
       "order_purchase_timestamp         95933\n",
       "order_approved_at                88266\n",
       "order_delivered_carrier_date     80094\n",
       "order_delivered_customer_date    95643\n",
       "order_estimated_delivery_date      445\n",
       "dtype: int64"
      ]
     },
     "execution_count": 29,
     "metadata": {},
     "output_type": "execute_result"
    }
   ],
   "source": [
    "order.nunique()"
   ]
  },
  {
   "cell_type": "markdown",
   "id": "211969ee-18f4-4a24-abd5-1b0e93086e0d",
   "metadata": {
    "tags": []
   },
   "source": [
    "#### Tabel Order: Dates Data"
   ]
  },
  {
   "cell_type": "code",
   "execution_count": 30,
   "id": "08ea96e0-6284-4f42-8761-18bc6c7715ef",
   "metadata": {},
   "outputs": [
    {
     "name": "stdout",
     "output_type": "stream",
     "text": [
      "<class 'pandas.core.frame.DataFrame'>\n",
      "Int64Index: 96455 entries, 0 to 99440\n",
      "Data columns (total 8 columns):\n",
      " #   Column                         Non-Null Count  Dtype \n",
      "---  ------                         --------------  ----- \n",
      " 0   order_id                       96455 non-null  object\n",
      " 1   customer_id                    96455 non-null  object\n",
      " 2   order_status                   96455 non-null  object\n",
      " 3   order_purchase_timestamp       96455 non-null  object\n",
      " 4   order_approved_at              96455 non-null  object\n",
      " 5   order_delivered_carrier_date   96455 non-null  object\n",
      " 6   order_delivered_customer_date  96455 non-null  object\n",
      " 7   order_estimated_delivery_date  96455 non-null  object\n",
      "dtypes: object(8)\n",
      "memory usage: 6.6+ MB\n"
     ]
    }
   ],
   "source": [
    "order.info()"
   ]
  },
  {
   "cell_type": "code",
   "execution_count": 31,
   "id": "6cc53034-0874-41e5-8727-5f448a2fb7bf",
   "metadata": {},
   "outputs": [],
   "source": [
    "order[['order_purchase_timestamp',\n",
    "      'order_approved_at',\n",
    "      'order_delivered_carrier_date',\n",
    "      'order_delivered_customer_date',\n",
    "      'order_estimated_delivery_date']] = order[['order_purchase_timestamp',\n",
    "                                                'order_approved_at',\n",
    "                                                'order_delivered_carrier_date',\n",
    "                                                'order_delivered_customer_date',\n",
    "                                                'order_estimated_delivery_date']].apply(pd.to_datetime)"
   ]
  },
  {
   "cell_type": "code",
   "execution_count": 32,
   "id": "c6af17b2-1d08-41ee-87f6-48eb3f4050d0",
   "metadata": {},
   "outputs": [
    {
     "name": "stdout",
     "output_type": "stream",
     "text": [
      "<class 'pandas.core.frame.DataFrame'>\n",
      "Int64Index: 96455 entries, 0 to 99440\n",
      "Data columns (total 8 columns):\n",
      " #   Column                         Non-Null Count  Dtype         \n",
      "---  ------                         --------------  -----         \n",
      " 0   order_id                       96455 non-null  object        \n",
      " 1   customer_id                    96455 non-null  object        \n",
      " 2   order_status                   96455 non-null  object        \n",
      " 3   order_purchase_timestamp       96455 non-null  datetime64[ns]\n",
      " 4   order_approved_at              96455 non-null  datetime64[ns]\n",
      " 5   order_delivered_carrier_date   96455 non-null  datetime64[ns]\n",
      " 6   order_delivered_customer_date  96455 non-null  datetime64[ns]\n",
      " 7   order_estimated_delivery_date  96455 non-null  datetime64[ns]\n",
      "dtypes: datetime64[ns](5), object(3)\n",
      "memory usage: 6.6+ MB\n"
     ]
    }
   ],
   "source": [
    "order.info()"
   ]
  },
  {
   "cell_type": "code",
   "execution_count": 33,
   "id": "ea408bf0-99f4-4260-9e4f-77f34fb08a28",
   "metadata": {},
   "outputs": [],
   "source": [
    "order = order[['order_id','customer_id','order_delivered_customer_date']]"
   ]
  },
  {
   "cell_type": "code",
   "execution_count": 34,
   "id": "b10fb9ba-db2e-4b2f-8806-f80e98d99a16",
   "metadata": {},
   "outputs": [
    {
     "data": {
      "text/html": [
       "<div>\n",
       "<style scoped>\n",
       "    .dataframe tbody tr th:only-of-type {\n",
       "        vertical-align: middle;\n",
       "    }\n",
       "\n",
       "    .dataframe tbody tr th {\n",
       "        vertical-align: top;\n",
       "    }\n",
       "\n",
       "    .dataframe thead th {\n",
       "        text-align: right;\n",
       "    }\n",
       "</style>\n",
       "<table border=\"1\" class=\"dataframe\">\n",
       "  <thead>\n",
       "    <tr style=\"text-align: right;\">\n",
       "      <th></th>\n",
       "      <th>order_id</th>\n",
       "      <th>customer_id</th>\n",
       "      <th>order_delivered_customer_date</th>\n",
       "    </tr>\n",
       "  </thead>\n",
       "  <tbody>\n",
       "    <tr>\n",
       "      <th>0</th>\n",
       "      <td>e481f51cbdc54678b7cc49136f2d6af7</td>\n",
       "      <td>9ef432eb6251297304e76186b10a928d</td>\n",
       "      <td>2017-10-10 21:25:13</td>\n",
       "    </tr>\n",
       "    <tr>\n",
       "      <th>1</th>\n",
       "      <td>53cdb2fc8bc7dce0b6741e2150273451</td>\n",
       "      <td>b0830fb4747a6c6d20dea0b8c802d7ef</td>\n",
       "      <td>2018-08-07 15:27:45</td>\n",
       "    </tr>\n",
       "    <tr>\n",
       "      <th>2</th>\n",
       "      <td>47770eb9100c2d0c44946d9cf07ec65d</td>\n",
       "      <td>41ce2a54c0b03bf3443c3d931a367089</td>\n",
       "      <td>2018-08-17 18:06:29</td>\n",
       "    </tr>\n",
       "    <tr>\n",
       "      <th>3</th>\n",
       "      <td>949d5b44dbf5de918fe9c16f97b45f8a</td>\n",
       "      <td>f88197465ea7920adcdbec7375364d82</td>\n",
       "      <td>2017-12-02 00:28:42</td>\n",
       "    </tr>\n",
       "    <tr>\n",
       "      <th>4</th>\n",
       "      <td>ad21c59c0840e6cb83a9ceb5573f8159</td>\n",
       "      <td>8ab97904e6daea8866dbdbc4fb7aad2c</td>\n",
       "      <td>2018-02-16 18:17:02</td>\n",
       "    </tr>\n",
       "    <tr>\n",
       "      <th>...</th>\n",
       "      <td>...</td>\n",
       "      <td>...</td>\n",
       "      <td>...</td>\n",
       "    </tr>\n",
       "    <tr>\n",
       "      <th>99436</th>\n",
       "      <td>9c5dedf39a927c1b2549525ed64a053c</td>\n",
       "      <td>39bd1228ee8140590ac3aca26f2dfe00</td>\n",
       "      <td>2017-03-17 15:08:01</td>\n",
       "    </tr>\n",
       "    <tr>\n",
       "      <th>99437</th>\n",
       "      <td>63943bddc261676b46f01ca7ac2f7bd8</td>\n",
       "      <td>1fca14ff2861355f6e5f14306ff977a7</td>\n",
       "      <td>2018-02-28 17:37:56</td>\n",
       "    </tr>\n",
       "    <tr>\n",
       "      <th>99438</th>\n",
       "      <td>83c1379a015df1e13d02aae0204711ab</td>\n",
       "      <td>1aa71eb042121263aafbe80c1b562c9c</td>\n",
       "      <td>2017-09-21 11:24:17</td>\n",
       "    </tr>\n",
       "    <tr>\n",
       "      <th>99439</th>\n",
       "      <td>11c177c8e97725db2631073c19f07b62</td>\n",
       "      <td>b331b74b18dc79bcdf6532d51e1637c1</td>\n",
       "      <td>2018-01-25 23:32:54</td>\n",
       "    </tr>\n",
       "    <tr>\n",
       "      <th>99440</th>\n",
       "      <td>66dea50a8b16d9b4dee7af250b4be1a5</td>\n",
       "      <td>edb027a75a1449115f6b43211ae02a24</td>\n",
       "      <td>2018-03-16 13:08:30</td>\n",
       "    </tr>\n",
       "  </tbody>\n",
       "</table>\n",
       "<p>96455 rows × 3 columns</p>\n",
       "</div>"
      ],
      "text/plain": [
       "                               order_id                       customer_id  \\\n",
       "0      e481f51cbdc54678b7cc49136f2d6af7  9ef432eb6251297304e76186b10a928d   \n",
       "1      53cdb2fc8bc7dce0b6741e2150273451  b0830fb4747a6c6d20dea0b8c802d7ef   \n",
       "2      47770eb9100c2d0c44946d9cf07ec65d  41ce2a54c0b03bf3443c3d931a367089   \n",
       "3      949d5b44dbf5de918fe9c16f97b45f8a  f88197465ea7920adcdbec7375364d82   \n",
       "4      ad21c59c0840e6cb83a9ceb5573f8159  8ab97904e6daea8866dbdbc4fb7aad2c   \n",
       "...                                 ...                               ...   \n",
       "99436  9c5dedf39a927c1b2549525ed64a053c  39bd1228ee8140590ac3aca26f2dfe00   \n",
       "99437  63943bddc261676b46f01ca7ac2f7bd8  1fca14ff2861355f6e5f14306ff977a7   \n",
       "99438  83c1379a015df1e13d02aae0204711ab  1aa71eb042121263aafbe80c1b562c9c   \n",
       "99439  11c177c8e97725db2631073c19f07b62  b331b74b18dc79bcdf6532d51e1637c1   \n",
       "99440  66dea50a8b16d9b4dee7af250b4be1a5  edb027a75a1449115f6b43211ae02a24   \n",
       "\n",
       "      order_delivered_customer_date  \n",
       "0               2017-10-10 21:25:13  \n",
       "1               2018-08-07 15:27:45  \n",
       "2               2018-08-17 18:06:29  \n",
       "3               2017-12-02 00:28:42  \n",
       "4               2018-02-16 18:17:02  \n",
       "...                             ...  \n",
       "99436           2017-03-17 15:08:01  \n",
       "99437           2018-02-28 17:37:56  \n",
       "99438           2017-09-21 11:24:17  \n",
       "99439           2018-01-25 23:32:54  \n",
       "99440           2018-03-16 13:08:30  \n",
       "\n",
       "[96455 rows x 3 columns]"
      ]
     },
     "execution_count": 34,
     "metadata": {},
     "output_type": "execute_result"
    }
   ],
   "source": [
    "order"
   ]
  },
  {
   "cell_type": "markdown",
   "id": "517fdac6-1dfe-4814-98d7-0ed1f7487568",
   "metadata": {
    "jp-MarkdownHeadingCollapsed": true,
    "tags": []
   },
   "source": [
    "#### Tabel Payment: Identifikasi Missing Value"
   ]
  },
  {
   "cell_type": "code",
   "execution_count": 35,
   "id": "1f69ba0f-3695-48ac-b4f7-0be2818b2bd5",
   "metadata": {},
   "outputs": [
    {
     "data": {
      "text/plain": [
       "order_id                0\n",
       "payment_sequential      0\n",
       "payment_type            0\n",
       "payment_installments    0\n",
       "payment_value           0\n",
       "dtype: int64"
      ]
     },
     "execution_count": 35,
     "metadata": {},
     "output_type": "execute_result"
    }
   ],
   "source": [
    "payments.isna().sum()"
   ]
  },
  {
   "cell_type": "markdown",
   "id": "11ed1302-6476-46b8-b73a-0c97c506e270",
   "metadata": {
    "jp-MarkdownHeadingCollapsed": true,
    "tags": []
   },
   "source": [
    "#### Tabel Payment: Identifikasi Inconsistent Format"
   ]
  },
  {
   "cell_type": "code",
   "execution_count": 36,
   "id": "54310f4f-5ca6-4f4b-8c95-9569e892df8c",
   "metadata": {},
   "outputs": [
    {
     "data": {
      "text/plain": [
       "order_id                99440\n",
       "payment_sequential         29\n",
       "payment_type                5\n",
       "payment_installments       24\n",
       "payment_value           29077\n",
       "dtype: int64"
      ]
     },
     "execution_count": 36,
     "metadata": {},
     "output_type": "execute_result"
    }
   ],
   "source": [
    "payments.nunique()"
   ]
  },
  {
   "cell_type": "code",
   "execution_count": 37,
   "id": "3e8572e7-ccd8-41cd-8434-2c7ff5cf5150",
   "metadata": {},
   "outputs": [
    {
     "data": {
      "text/plain": [
       "array([ 1,  2,  4,  5,  3,  8,  6,  7, 10, 11, 17, 19, 27, 12,  9, 15, 13,\n",
       "       14, 16, 25, 22, 26, 29, 28, 18, 21, 24, 23, 20], dtype=int64)"
      ]
     },
     "execution_count": 37,
     "metadata": {},
     "output_type": "execute_result"
    }
   ],
   "source": [
    "payments['payment_sequential'].unique()"
   ]
  },
  {
   "cell_type": "code",
   "execution_count": 38,
   "id": "d80ace74-a954-4904-9c47-7190e6ea3733",
   "metadata": {},
   "outputs": [
    {
     "data": {
      "text/plain": [
       "array(['credit_card', 'boleto', 'voucher', 'debit_card', 'not_defined'],\n",
       "      dtype=object)"
      ]
     },
     "execution_count": 38,
     "metadata": {},
     "output_type": "execute_result"
    }
   ],
   "source": [
    "payments['payment_type'].unique()"
   ]
  },
  {
   "cell_type": "code",
   "execution_count": 39,
   "id": "04072cb3-11d6-4b72-a302-d27f22ea4ba0",
   "metadata": {},
   "outputs": [
    {
     "data": {
      "text/plain": [
       "array([ 8,  1,  2,  3,  6,  5,  4, 10,  7, 12,  9, 13, 15, 24, 11, 18, 14,\n",
       "       20, 21, 17, 22,  0, 16, 23], dtype=int64)"
      ]
     },
     "execution_count": 39,
     "metadata": {},
     "output_type": "execute_result"
    }
   ],
   "source": [
    "payments['payment_installments'].unique()"
   ]
  },
  {
   "cell_type": "markdown",
   "id": "7aa078cd-d531-45e6-986f-23fa4b3d8c24",
   "metadata": {
    "jp-MarkdownHeadingCollapsed": true,
    "tags": []
   },
   "source": [
    "#### Tabel Payment: Identifikasi Data Duplicated"
   ]
  },
  {
   "cell_type": "code",
   "execution_count": 40,
   "id": "2002b09a-5e8f-47af-aa4e-4eb745a0fdcf",
   "metadata": {},
   "outputs": [
    {
     "data": {
      "text/plain": [
       "False"
      ]
     },
     "execution_count": 40,
     "metadata": {},
     "output_type": "execute_result"
    }
   ],
   "source": [
    "payments.duplicated().any()"
   ]
  },
  {
   "cell_type": "code",
   "execution_count": 41,
   "id": "8e0a8bcb-b0df-4d2b-a8eb-0f6922f9f0a0",
   "metadata": {},
   "outputs": [
    {
     "name": "stdout",
     "output_type": "stream",
     "text": [
      "<class 'pandas.core.frame.DataFrame'>\n",
      "RangeIndex: 103886 entries, 0 to 103885\n",
      "Data columns (total 5 columns):\n",
      " #   Column                Non-Null Count   Dtype  \n",
      "---  ------                --------------   -----  \n",
      " 0   order_id              103886 non-null  object \n",
      " 1   payment_sequential    103886 non-null  int64  \n",
      " 2   payment_type          103886 non-null  object \n",
      " 3   payment_installments  103886 non-null  int64  \n",
      " 4   payment_value         103886 non-null  float64\n",
      "dtypes: float64(1), int64(2), object(2)\n",
      "memory usage: 4.0+ MB\n"
     ]
    }
   ],
   "source": [
    "payments.info()"
   ]
  },
  {
   "cell_type": "markdown",
   "id": "a8a98c3a-a36a-41e9-a3f7-74975718269b",
   "metadata": {
    "jp-MarkdownHeadingCollapsed": true,
    "tags": []
   },
   "source": [
    "#### Tabel Customer: Identifikasi Missing Value"
   ]
  },
  {
   "cell_type": "code",
   "execution_count": 42,
   "id": "9cf13e67-fab9-4fd1-9802-dafd0951d963",
   "metadata": {},
   "outputs": [
    {
     "data": {
      "text/plain": [
       "customers_id                0\n",
       "customers_uniq_id           0\n",
       "customer_zip_code_prefix    0\n",
       "customer_city               0\n",
       "customer_state              0\n",
       "dtype: int64"
      ]
     },
     "execution_count": 42,
     "metadata": {},
     "output_type": "execute_result"
    }
   ],
   "source": [
    "customer.isna().sum()"
   ]
  },
  {
   "cell_type": "markdown",
   "id": "2faaf3ab-ce0b-4895-87e5-71510a89f83e",
   "metadata": {
    "jp-MarkdownHeadingCollapsed": true,
    "tags": []
   },
   "source": [
    "#### Tabel Customer: Identifikasi Inconsistent Format"
   ]
  },
  {
   "cell_type": "code",
   "execution_count": 43,
   "id": "eaa96335-c1e2-4077-9f99-b2c8451eb5a0",
   "metadata": {},
   "outputs": [
    {
     "data": {
      "text/plain": [
       "customers_id                99441\n",
       "customers_uniq_id           96096\n",
       "customer_zip_code_prefix    14994\n",
       "customer_city                4119\n",
       "customer_state                 27\n",
       "dtype: int64"
      ]
     },
     "execution_count": 43,
     "metadata": {},
     "output_type": "execute_result"
    }
   ],
   "source": [
    "customer.nunique()"
   ]
  },
  {
   "cell_type": "code",
   "execution_count": 44,
   "id": "697aed31-3841-4edd-a1cc-974bf87ad864",
   "metadata": {
    "tags": []
   },
   "outputs": [
    {
     "data": {
      "text/plain": [
       "['franca',\n",
       " 'sao bernardo do campo',\n",
       " 'sao paulo',\n",
       " 'mogi das cruzes',\n",
       " 'campinas',\n",
       " 'jaragua do sul',\n",
       " 'timoteo',\n",
       " 'curitiba',\n",
       " 'belo horizonte',\n",
       " 'montes claros',\n",
       " 'rio de janeiro',\n",
       " 'lencois paulista',\n",
       " 'caxias do sul',\n",
       " 'piracicaba',\n",
       " 'guarulhos',\n",
       " 'pacaja',\n",
       " 'florianopolis',\n",
       " 'aparecida de goiania',\n",
       " 'santo andre',\n",
       " 'goiania',\n",
       " 'cachoeiro de itapemirim',\n",
       " 'sao jose dos campos',\n",
       " 'sao roque',\n",
       " 'camacari',\n",
       " 'resende',\n",
       " 'sumare',\n",
       " 'novo hamburgo',\n",
       " 'sao luis',\n",
       " 'sao jose',\n",
       " 'santa barbara',\n",
       " 'ribeirao preto',\n",
       " 'ituiutaba',\n",
       " 'taquarituba',\n",
       " 'sao jose dos pinhais',\n",
       " 'barrinha',\n",
       " 'parati',\n",
       " 'dourados',\n",
       " 'trindade',\n",
       " 'cascavel',\n",
       " 'fortaleza',\n",
       " 'brasilia',\n",
       " 'pelotas',\n",
       " 'porto alegre',\n",
       " 'salto',\n",
       " 'jundiai',\n",
       " 'cacapava',\n",
       " 'sao vicente',\n",
       " 'uberlandia',\n",
       " 'botelhos',\n",
       " 'sao goncalo',\n",
       " 'araucaria',\n",
       " 'nova iguacu',\n",
       " 'areia branca',\n",
       " 'campos dos goytacazes',\n",
       " 'sao carlos',\n",
       " 'itajuba',\n",
       " 'cruz das almas',\n",
       " 'vassouras',\n",
       " 'feira de santana',\n",
       " 'niteroi',\n",
       " 'sobral',\n",
       " 'divinopolis',\n",
       " 'paraiba do sul',\n",
       " 'paulista',\n",
       " 'carapicuiba',\n",
       " 'bom principio',\n",
       " 'astolfo dutra',\n",
       " 'marialva',\n",
       " 'sao jose do rio preto',\n",
       " 'cabo frio',\n",
       " 'contagem',\n",
       " 'cafeara',\n",
       " 'sao joaquim da barra',\n",
       " 'foz do iguacu',\n",
       " 'suzano',\n",
       " 'timbo',\n",
       " 'camboriu',\n",
       " 'nova bassano',\n",
       " 'rio grande',\n",
       " 'braganca paulista',\n",
       " 'barra do garcas',\n",
       " 'embu',\n",
       " 'urussanga',\n",
       " 'silvianopolis',\n",
       " 'gameleiras',\n",
       " 'belem',\n",
       " 'pocos de caldas',\n",
       " 'santos',\n",
       " 'piracaia',\n",
       " 'sinop',\n",
       " 'guaruja',\n",
       " 'barueri',\n",
       " 'feliz',\n",
       " 'jambeiro',\n",
       " 'ipatinga',\n",
       " 'tupa',\n",
       " 'blumenau',\n",
       " 'moncoes',\n",
       " 'balneario camboriu',\n",
       " 'vargem grande',\n",
       " 'rio brilhante',\n",
       " 'eugenopolis',\n",
       " 'paulinia',\n",
       " 'apucarana',\n",
       " 'recife',\n",
       " 'osasco',\n",
       " 'valinhos',\n",
       " 'manaus',\n",
       " 'cidreira',\n",
       " 'santiago',\n",
       " 'sao sepe',\n",
       " 'alta floresta',\n",
       " 'jaboatao dos guararapes',\n",
       " 'ibatiba',\n",
       " 'hortolandia',\n",
       " 'cotia',\n",
       " 'macae',\n",
       " 'saudades',\n",
       " 'macapa',\n",
       " 'salto de pirapora',\n",
       " 'taboao da serra',\n",
       " 'bom jesus',\n",
       " 'santa cruz do rio pardo',\n",
       " 'diadema',\n",
       " 'santa ines',\n",
       " 'serrinha',\n",
       " 'votorantim',\n",
       " 'itatiaia',\n",
       " 'duque de caxias',\n",
       " 'varre-sai',\n",
       " 'vila velha',\n",
       " 'mangaratiba',\n",
       " 'atibaia',\n",
       " 'salvador',\n",
       " 'maceio',\n",
       " 'birigui',\n",
       " 'petropolis',\n",
       " 'sao pedro',\n",
       " 'jaguariaiva',\n",
       " 'franco da rocha',\n",
       " 'pindamonhangaba',\n",
       " 'irati',\n",
       " 'ribeira',\n",
       " 'barbacena',\n",
       " 'limoeiro',\n",
       " 'espigao do oeste',\n",
       " 'belford roxo',\n",
       " 'coronel fabriciano',\n",
       " 'itanhaem',\n",
       " 'bebedouro',\n",
       " 'americana',\n",
       " 'uba',\n",
       " 'arapongas',\n",
       " 'vinhedo',\n",
       " 'itajai',\n",
       " 'bauru',\n",
       " 'pradopolis',\n",
       " 'aripuana',\n",
       " 'guaratinga',\n",
       " 'ponta pora',\n",
       " 'aracatuba',\n",
       " 'volta redonda',\n",
       " 'maringa',\n",
       " 'araraquara',\n",
       " 'matipo',\n",
       " 'santo antonio da patrulha',\n",
       " 'barra mansa',\n",
       " 'diamantina',\n",
       " 'mairinque',\n",
       " 'capitao leonidas marques',\n",
       " 'sao sebastiao do paraiso',\n",
       " 'rosario do sul',\n",
       " 'itaguai',\n",
       " 'paraopeba',\n",
       " 'guarapuava',\n",
       " 'crisolita',\n",
       " 'pirai',\n",
       " 'linhares',\n",
       " 'agudos',\n",
       " 'sao joao de meriti',\n",
       " 'navegantes',\n",
       " 'pirassununga',\n",
       " 'faxinal dos guedes',\n",
       " 'criciuma',\n",
       " 'nova venecia',\n",
       " 'passo fundo',\n",
       " 'ibia',\n",
       " 'manhuacu',\n",
       " 'altamira',\n",
       " 'aperibe',\n",
       " 'cuiaba',\n",
       " 'canoas',\n",
       " 'cubatao',\n",
       " 'campo limpo paulista',\n",
       " 'cambe',\n",
       " 'itaquaquecetuba',\n",
       " 'sao caetano do sul',\n",
       " 'sao goncalo do rio abaixo',\n",
       " 'rolandia',\n",
       " 'tres coracoes',\n",
       " 'cacapava do sul',\n",
       " 'sao joao nepomuceno',\n",
       " 'leme',\n",
       " 'araras',\n",
       " 'cortes',\n",
       " 'brusque',\n",
       " 'montenegro',\n",
       " 'itaberai',\n",
       " 'santa rosa de viterbo',\n",
       " 'agua fria de goias',\n",
       " 'marau',\n",
       " 'curvelo',\n",
       " 'juiz de fora',\n",
       " 'mogi-guacu',\n",
       " 'guaratingueta',\n",
       " 'paranagua',\n",
       " 'lins',\n",
       " 'campo bom',\n",
       " 'sertaozinho',\n",
       " 'tres lagoas',\n",
       " 'jau',\n",
       " 'campos de julio',\n",
       " 'saquarema',\n",
       " 'artur nogueira',\n",
       " 'uaua',\n",
       " 'jandira',\n",
       " 'concordia',\n",
       " 'nova friburgo',\n",
       " 'sorocaba',\n",
       " 'ponte nova',\n",
       " 'araquari',\n",
       " 'muriae',\n",
       " 'nova lima',\n",
       " 'inhumas',\n",
       " 'italva',\n",
       " 'tres rios',\n",
       " 'santa maria',\n",
       " 'itagiba',\n",
       " 'paracatu',\n",
       " 'xaxim',\n",
       " 'laranjeiras do sul',\n",
       " 'itapiuna',\n",
       " 'formosa',\n",
       " 'ivoti',\n",
       " 'juazeiro',\n",
       " 'ponta grossa',\n",
       " 'campina grande',\n",
       " 'maua',\n",
       " 'salgueiro',\n",
       " 'lorena',\n",
       " 'toledo',\n",
       " 'sao pedro da aldeia',\n",
       " 'vianopolis',\n",
       " 'arapiraca',\n",
       " 'porto seguro',\n",
       " 'ariquemes',\n",
       " 'presidente getulio',\n",
       " 'rio negro',\n",
       " 'ribeirao pires',\n",
       " 'sao jose da coroa grande',\n",
       " 'agua doce do norte',\n",
       " 'anapolis',\n",
       " 'guararapes',\n",
       " 'farroupilha',\n",
       " 'almenara',\n",
       " 'rio das ostras',\n",
       " 'gravatai',\n",
       " 'brumado',\n",
       " 'marilia',\n",
       " 'itabira',\n",
       " 'claudia',\n",
       " 'para de minas',\n",
       " 'miguelopolis',\n",
       " 'terra roxa',\n",
       " 'araguari',\n",
       " 'lages',\n",
       " 'embu das artes',\n",
       " 'limeira',\n",
       " 'taubate',\n",
       " 'santa fe do sul',\n",
       " 'caieiras',\n",
       " 'carangola',\n",
       " 'chapada do norte',\n",
       " 'loanda',\n",
       " 'passa tres',\n",
       " 'aracoiaba da serra',\n",
       " 'itaborai',\n",
       " 'vitoria',\n",
       " 'sao bento do sul',\n",
       " 'indaiatuba',\n",
       " 'boituva',\n",
       " 'teresopolis',\n",
       " 'pinhalzinho',\n",
       " 'petrolina',\n",
       " 'natal',\n",
       " 'barreiras',\n",
       " 'januaria',\n",
       " 'ipiabas',\n",
       " 'firminopolis',\n",
       " 'joinville',\n",
       " 'mococa',\n",
       " 'valenca',\n",
       " 'sao miguel do oeste',\n",
       " 'jales',\n",
       " 'rio formoso',\n",
       " 'angra dos reis',\n",
       " 'alfredo chaves',\n",
       " 'itapetinga',\n",
       " 'gurupi',\n",
       " 'nucleo residencial pilar',\n",
       " 'coromandel',\n",
       " 'charqueada',\n",
       " 'itau de minas',\n",
       " 'ibiruba',\n",
       " 'bertioga',\n",
       " 'ipiau',\n",
       " 'matozinhos',\n",
       " 'teresina',\n",
       " 'entre rios',\n",
       " 'juina',\n",
       " 'mairipora',\n",
       " 'marechal candido rondon',\n",
       " 'avare',\n",
       " 'icem',\n",
       " 'sao sebastiao',\n",
       " 'serra',\n",
       " 'mirassol',\n",
       " 'taperuaba',\n",
       " 'alfenas',\n",
       " 'leopoldina',\n",
       " 'sao joao da boa vista',\n",
       " 'parnamirim',\n",
       " 'teixeira de freitas',\n",
       " 'joao pessoa',\n",
       " 'chacara',\n",
       " 'rio novo do sul',\n",
       " 'guapore',\n",
       " 'rio branco',\n",
       " 'ferraz de vasconcelos',\n",
       " 'petrolandia',\n",
       " 'araruna',\n",
       " 'gravata',\n",
       " 'alegre',\n",
       " 'londrina',\n",
       " 'senhor do bonfim',\n",
       " 'santana de parnaiba',\n",
       " 'piratininga',\n",
       " 'monte carmelo',\n",
       " 'ipiranga',\n",
       " 'jacarei',\n",
       " 'picos',\n",
       " 'una',\n",
       " 'taguai',\n",
       " 'peabiru',\n",
       " 'conquista',\n",
       " 'bicas',\n",
       " 'forquilha',\n",
       " 'guaicara',\n",
       " 'santa vitoria',\n",
       " 'adamantina',\n",
       " 'rio claro',\n",
       " 'sao jose de uba',\n",
       " 'sorriso',\n",
       " 'aracaju',\n",
       " 'conselheiro lafaiete',\n",
       " 'taguatinga',\n",
       " 'tiangua',\n",
       " 'paranaiba',\n",
       " 'david canabarro',\n",
       " 'itarare',\n",
       " 'cajueiro',\n",
       " 'cruzeiro',\n",
       " 'santa cruz do sul',\n",
       " 'presidente epitacio',\n",
       " 'castanhal',\n",
       " 'cariacica',\n",
       " 'bom jesus dos perdoes',\n",
       " 'urucurituba',\n",
       " 'olinda',\n",
       " 'sao jose do rio pardo',\n",
       " 'guapimirim',\n",
       " 'vargem grande paulista',\n",
       " 'chapeco',\n",
       " 'videira',\n",
       " 'canapi',\n",
       " 'pontal do parana',\n",
       " 'bento goncalves',\n",
       " 'caceres',\n",
       " 'bituruna',\n",
       " 'sao bento do sapucai',\n",
       " 'mage',\n",
       " 'forquilhinha',\n",
       " 'itaberaba',\n",
       " 'gramado',\n",
       " 'guacui',\n",
       " 'pato branco',\n",
       " 'itanhem',\n",
       " 'palmas',\n",
       " 'bage',\n",
       " 'francisco morato',\n",
       " 'cosmopolis',\n",
       " 'carmo',\n",
       " 'armacao dos buzios',\n",
       " 'santa maria da vitoria',\n",
       " 'pedro leopoldo',\n",
       " 'tres marias',\n",
       " 'santo antonio de padua',\n",
       " 'porto feliz',\n",
       " 'gaspar',\n",
       " 'palhoca',\n",
       " 'pouso alegre',\n",
       " 'guaiuba',\n",
       " 'fraiburgo',\n",
       " 'aurea',\n",
       " 'botucatu',\n",
       " 'corumba',\n",
       " 'cajamar',\n",
       " 'queimados',\n",
       " 'sao jorge do ivai',\n",
       " 'nova laranjeiras',\n",
       " 'guaxupe',\n",
       " 'osvaldo cruz',\n",
       " 'ivora',\n",
       " 'anaurilandia',\n",
       " 'caraguatatuba',\n",
       " 'regeneracao',\n",
       " 'bilac',\n",
       " 'faxinal',\n",
       " 'pedro velho',\n",
       " 'uberaba',\n",
       " 'viamao',\n",
       " 'cachoeira de minas',\n",
       " 'coelho neto',\n",
       " 'itajobi',\n",
       " 'carmo do rio claro',\n",
       " 'marica',\n",
       " 'campo novo do parecis',\n",
       " 'boa vista',\n",
       " 'ipameri',\n",
       " 'carlos barbosa',\n",
       " 'anicuns',\n",
       " 'rio bananal',\n",
       " 'lavras da mangabeira',\n",
       " 'balsamo',\n",
       " 'guariba',\n",
       " 'sao vendelino',\n",
       " 'campo mourao',\n",
       " 'aracati',\n",
       " 'santo antonio do descoberto',\n",
       " 'santo amaro da imperatriz',\n",
       " 'betim',\n",
       " 'vicosa',\n",
       " 'dom eliseu',\n",
       " 'campo largo',\n",
       " 'santa rosa de lima',\n",
       " 'quissama',\n",
       " 'mirandopolis',\n",
       " 'itapevi',\n",
       " 'francisco beltrao',\n",
       " \"dias d'avila\",\n",
       " 'novo horizonte',\n",
       " 'poa',\n",
       " 'querencia',\n",
       " 'campo grande',\n",
       " 'pedreira',\n",
       " 'pariquera-acu',\n",
       " 'itabaianinha',\n",
       " 'pitangui',\n",
       " 'araruama',\n",
       " 'campo formoso',\n",
       " 'guanambi',\n",
       " 'itapolis',\n",
       " 'pederneiras',\n",
       " 'itabirito',\n",
       " 'itaipava',\n",
       " 'arroio do sal',\n",
       " 'glaura',\n",
       " 'lagoa vermelha',\n",
       " 'mantena',\n",
       " 'peruibe',\n",
       " 'tubarao',\n",
       " 'bonfim',\n",
       " 'alvorada',\n",
       " 'patrocinio',\n",
       " 'mineiros',\n",
       " 'itabuna',\n",
       " 'tijucas',\n",
       " 'santo antonio de jesus',\n",
       " 'canarana',\n",
       " 'itapecerica da serra',\n",
       " 'nova prata do iguacu',\n",
       " 'treze tilias',\n",
       " 'anchieta',\n",
       " 'quatigua',\n",
       " 'iturama',\n",
       " 'tres de maio',\n",
       " 'santa rita do passa quatro',\n",
       " 'porto esperidiao',\n",
       " 'bonfim paulista',\n",
       " 'cajuru',\n",
       " 'cacador',\n",
       " 'paragominas',\n",
       " 'boa esperanca do sul',\n",
       " 'tres pontas',\n",
       " 'juazeiro do norte',\n",
       " 'bambui',\n",
       " 'comendador levy gasparian',\n",
       " 'sao miguel do aleixo',\n",
       " 'palmeira dos indios',\n",
       " 'cerquilho',\n",
       " 'saudade do iguacu',\n",
       " 'ipaussu',\n",
       " 'alto paraiso de goias',\n",
       " 'santa isabel',\n",
       " 'quirinopolis',\n",
       " 'caruaru',\n",
       " 'casimiro de abreu',\n",
       " 'chavantes',\n",
       " 'ecoporanga',\n",
       " 'cachoeira paulista',\n",
       " 'rio verde',\n",
       " 'maracanau',\n",
       " 'canoinhas',\n",
       " 'ituverava',\n",
       " 'buriti dos lopes',\n",
       " 'rio do antonio',\n",
       " 'guaranta',\n",
       " 'santa luzia',\n",
       " 'tucurui',\n",
       " 'paranavai',\n",
       " 'pinhais',\n",
       " 'governador valadares',\n",
       " 'trajano de moraes',\n",
       " 'caete',\n",
       " 'abaetetuba',\n",
       " 'lavras',\n",
       " 'coronel joao sa',\n",
       " 'divino',\n",
       " 'macaubas',\n",
       " 'lucelia',\n",
       " 'brejo da madre de deus',\n",
       " 'carai',\n",
       " 'corbelia',\n",
       " 'varginha',\n",
       " 'ouro preto',\n",
       " 'prado',\n",
       " 'colniza',\n",
       " 'piuma',\n",
       " 'rancharia',\n",
       " 'barretos',\n",
       " 'eunapolis',\n",
       " 'floresta',\n",
       " 'sao jose do norte',\n",
       " 'rio bonito',\n",
       " 'vargem bonita',\n",
       " 'monte mor',\n",
       " 'valente',\n",
       " 'balsas',\n",
       " 'nhandeara',\n",
       " 'lauro de freitas',\n",
       " 'osorio',\n",
       " 'machado',\n",
       " 'sao leopoldo',\n",
       " 'soledade',\n",
       " 'assis',\n",
       " 'guarapari',\n",
       " 'santo antonio do caiua',\n",
       " 'esteio',\n",
       " 'cambuci',\n",
       " 'campina grande do sul',\n",
       " 'baixo guandu',\n",
       " 'fernao',\n",
       " 'ibitinga',\n",
       " 'santa cruz das palmeiras',\n",
       " 'vila muriqui',\n",
       " 'sao mateus',\n",
       " 'piracuruca',\n",
       " 'cordeiro',\n",
       " 'cachoeira do sul',\n",
       " 'barra do pirai',\n",
       " 'castro',\n",
       " 'ico',\n",
       " 'sete lagoas',\n",
       " 'itumbiara',\n",
       " 'aluminio',\n",
       " 'jatai',\n",
       " 'frederico westphalen',\n",
       " 'goioere',\n",
       " 'sao jose da tapera',\n",
       " 'porto uniao',\n",
       " 'cocalinho',\n",
       " 'curitibanos',\n",
       " 'campos novos',\n",
       " 'ubatuba',\n",
       " 'monte santo de minas',\n",
       " 'ribeirao das neves',\n",
       " 'sao simao',\n",
       " 'urutai',\n",
       " 'itaobim',\n",
       " 'liberdade',\n",
       " 'arcos',\n",
       " 'ribeirao',\n",
       " 'patos de minas',\n",
       " 'penapolis',\n",
       " 'eusebio',\n",
       " 'cordeiros',\n",
       " 'victor graeff',\n",
       " 'santa rita do araguaia',\n",
       " 'poxoreu',\n",
       " 'ananas',\n",
       " 'conceicao dos ouros',\n",
       " 'alagoinhas',\n",
       " 'sao joao da barra',\n",
       " 'lindoia',\n",
       " 'bonfinopolis',\n",
       " 'ibiam',\n",
       " 'morungaba',\n",
       " 'andradina',\n",
       " 'tatui',\n",
       " 'mata verde',\n",
       " 'cornelio procopio',\n",
       " 'itapipoca',\n",
       " 'queluz',\n",
       " 'godoy moreira',\n",
       " 'iracemapolis',\n",
       " 'buritizeiro',\n",
       " 'xique-xique',\n",
       " 'uruacu',\n",
       " 'japi',\n",
       " 'itauna',\n",
       " 'sao francisco de assis',\n",
       " 'pitangueiras',\n",
       " 'ze doca',\n",
       " 'dracena',\n",
       " 'cachoeiras de macacu',\n",
       " 'barauna',\n",
       " 'formiga',\n",
       " 'rodeio',\n",
       " 'jequie',\n",
       " 'juvenilia',\n",
       " 'poco fundo',\n",
       " 'amparo',\n",
       " 'lauro muller',\n",
       " 'japeri',\n",
       " 'ourinhos',\n",
       " 'lagoa dos gatos',\n",
       " 'embu-guacu',\n",
       " 'nossa senhora do remedio',\n",
       " 'tambau',\n",
       " 'orlandia',\n",
       " 'bananeiras',\n",
       " 'sao joao do manhuacu',\n",
       " 'sarandi',\n",
       " 'congonhas',\n",
       " 'boa esperanca',\n",
       " 'sandolandia',\n",
       " 'garca',\n",
       " 'descalvado',\n",
       " 'guaracai',\n",
       " 'aruana',\n",
       " 'inga',\n",
       " 'taio',\n",
       " 'gaurama',\n",
       " 'praia grande',\n",
       " 'janauba',\n",
       " 'nova monte verde',\n",
       " 'mongagua',\n",
       " 'monte alto',\n",
       " 'sao joao do piaui',\n",
       " 'primavera do leste',\n",
       " 'seropedica',\n",
       " 'indaial',\n",
       " 'teofilo otoni',\n",
       " 'santa terezinha',\n",
       " 'planaltina',\n",
       " 'caravelas',\n",
       " 'muritiba',\n",
       " 'itatiba',\n",
       " 'piumhii',\n",
       " 'pitanga',\n",
       " 'capelinha',\n",
       " 'ipero',\n",
       " 'tarabai',\n",
       " 'aparecida do taboado',\n",
       " 'maioba',\n",
       " 'monnerat',\n",
       " 'sao lourenco do sul',\n",
       " 'biguacu',\n",
       " 'venda nova do imigrante',\n",
       " 'arapoti',\n",
       " 'fazenda rio grande',\n",
       " 'senges',\n",
       " 'aracruz',\n",
       " 'canela',\n",
       " 'porto franco',\n",
       " 'veranopolis',\n",
       " 'candiota',\n",
       " 'carmo do paranaiba',\n",
       " 'itacare',\n",
       " 'desembargador otoni',\n",
       " 'joanopolis',\n",
       " 'registro',\n",
       " 'ipiranga do norte',\n",
       " 'felipe guerra',\n",
       " 'dumont',\n",
       " 'itapetininga',\n",
       " 'bom despacho',\n",
       " 'lagoa santa',\n",
       " 'estacao',\n",
       " 'panorama',\n",
       " 'palmares',\n",
       " 'prata',\n",
       " 'santa adelia',\n",
       " 'iguaba grande',\n",
       " 'sarzedo',\n",
       " 'dourado',\n",
       " 'alcinopolis',\n",
       " 'limoeiro do norte',\n",
       " 'ibiraci',\n",
       " 'ilhabela',\n",
       " 'icara',\n",
       " 'paiva',\n",
       " 'batatais',\n",
       " 'formoso do araguaia',\n",
       " 'itapaci',\n",
       " 'fernandopolis',\n",
       " 'miguel pereira',\n",
       " 'tocos',\n",
       " 'campos do jordao',\n",
       " 'catalao',\n",
       " 'sao jose da lapa',\n",
       " 'marituba',\n",
       " 'arapora',\n",
       " 'turvo',\n",
       " 'rubiataba',\n",
       " 'guaruja do sul',\n",
       " 'pedra bela',\n",
       " 'perdizes',\n",
       " 'jesuania',\n",
       " 'antonio carlos',\n",
       " 'itapecerica',\n",
       " 'monte belo',\n",
       " 'mossoro',\n",
       " 'piraju',\n",
       " 'encruzilhada do sul',\n",
       " 'igaratinga',\n",
       " 'sao luis de montes belos',\n",
       " 'santa rosa',\n",
       " 'lagoinha',\n",
       " 'redentora',\n",
       " 'cuite',\n",
       " 'coxim',\n",
       " 'lucas do rio verde',\n",
       " 'ibirataia',\n",
       " 'olimpia',\n",
       " 'cedro',\n",
       " 'mario campos',\n",
       " 'umuarama',\n",
       " 'nova xavantina',\n",
       " 'sao borja',\n",
       " 'aguai',\n",
       " 'itapira',\n",
       " 'uniao da vitoria',\n",
       " 'nova odessa',\n",
       " 'itapuranga',\n",
       " 'nova cruz',\n",
       " 'apuiares',\n",
       " 'almirante tamandare',\n",
       " 'correia pinto',\n",
       " 'itamarandiba',\n",
       " 'juscimeira',\n",
       " 'ipora',\n",
       " 'cedro de sao joao',\n",
       " \"santa barbara d'oeste\",\n",
       " 'sao joao da urtiga',\n",
       " 'valparaiso de goias',\n",
       " 'jussara',\n",
       " 'capao da canoa',\n",
       " 'araxa',\n",
       " 'campo belo',\n",
       " 'monte aprazivel',\n",
       " 'bom jesus do querendo',\n",
       " 'socorro',\n",
       " 'catanduva',\n",
       " 'monte castelo',\n",
       " 'tabatinga',\n",
       " 'bayeux',\n",
       " 'ijui',\n",
       " 'tangara da serra',\n",
       " 'campos borges',\n",
       " 'palma',\n",
       " 'minacu',\n",
       " 'miracema',\n",
       " 'taruma',\n",
       " 'sao francisco do sul',\n",
       " 'cedral',\n",
       " 'camaragibe',\n",
       " 'lajeado',\n",
       " 'cerqueira cesar',\n",
       " 'frutal',\n",
       " 'igarata',\n",
       " 'novo gama',\n",
       " 'sapucaia do sul',\n",
       " 'juquitiba',\n",
       " 'terra boa',\n",
       " 'joao monlevade',\n",
       " 'porangatu',\n",
       " 'formosa da serra negra',\n",
       " 'rafard',\n",
       " 'rainha do mar',\n",
       " 'pontal',\n",
       " 'rio do sul',\n",
       " 'nilopolis',\n",
       " 'maracaju',\n",
       " 'santo augusto',\n",
       " 'banabuiu',\n",
       " 'buenopolis',\n",
       " 'barbalha',\n",
       " 'quintana',\n",
       " 'chorrocho',\n",
       " 'votuporanga',\n",
       " 'poco verde',\n",
       " 'cipo-guacu',\n",
       " 'santarem',\n",
       " 'santa clara do sul',\n",
       " 'ibiuna',\n",
       " 'capivari',\n",
       " 'arraias',\n",
       " 'patos',\n",
       " 'sao francisco do guapore',\n",
       " 'vitoria da conquista',\n",
       " 'urucuca',\n",
       " 'vacaria',\n",
       " 'campos altos',\n",
       " 'nossa senhora do socorro',\n",
       " 'cruzeiro do sul',\n",
       " 'cataguases',\n",
       " 'varzea grande',\n",
       " 'santa rita do sapucai',\n",
       " 'jaboticabal',\n",
       " 'ilha comprida',\n",
       " 'brasilia de minas',\n",
       " 'moreno',\n",
       " 'capanema',\n",
       " 'tombos',\n",
       " 'espumoso',\n",
       " 'ouro branco',\n",
       " 'valenca do piaui',\n",
       " 'igrejinha',\n",
       " 'engenheiro coelho',\n",
       " 'parauapebas',\n",
       " 'afonso claudio',\n",
       " 'sao bernardo',\n",
       " 'salto do jacui',\n",
       " 'pires do rio',\n",
       " 'astorga',\n",
       " 'medina',\n",
       " 'porto ferreira',\n",
       " 'aracariguama',\n",
       " 'hidrolandia',\n",
       " 'virginopolis',\n",
       " 'soledade de minas',\n",
       " 'casca',\n",
       " 'sapiranga',\n",
       " 'angatuba',\n",
       " 'ibirapua',\n",
       " 'itupeva',\n",
       " 'espera feliz',\n",
       " 'penedo',\n",
       " 'ibirite',\n",
       " 'miracatu',\n",
       " 'francisco santos',\n",
       " 'paracambi',\n",
       " 'cardoso',\n",
       " 'floriano',\n",
       " 'rondonopolis',\n",
       " 'barra de sao francisco',\n",
       " 'lavinia',\n",
       " 'guajara-mirim',\n",
       " 'guimaraes',\n",
       " 'sao tome',\n",
       " 'medianeira',\n",
       " 'conceicao das pedras',\n",
       " 'rinopolis',\n",
       " 'capim grosso',\n",
       " 'guaira',\n",
       " 'euclides da cunha paulista',\n",
       " 'lagoa da prata',\n",
       " 'nanuque',\n",
       " 'luis antonio',\n",
       " 'senador firmino',\n",
       " 'viradouro',\n",
       " 'itabera',\n",
       " 'cambara',\n",
       " 'sananduva',\n",
       " 'tapera',\n",
       " 'tupaciguara',\n",
       " 'colombo',\n",
       " 'ananindeua',\n",
       " 'coribe',\n",
       " 'rio doce',\n",
       " 'mogi mirim',\n",
       " 'tocos do moji',\n",
       " 'beberibe',\n",
       " 'formosa do rio preto',\n",
       " 'claudio',\n",
       " 'rio paranaiba',\n",
       " 'humberto de campos',\n",
       " 'camocim de sao felix',\n",
       " 'santo antonio de posse',\n",
       " 'mesquita',\n",
       " 'passa quatro',\n",
       " 'belo oriente',\n",
       " 'alto araguaia',\n",
       " 'igarassu',\n",
       " 'porto velho',\n",
       " 'cajazeiras',\n",
       " 'garopaba',\n",
       " 'rio azul',\n",
       " 'dois corregos',\n",
       " 'sooretama',\n",
       " 'cruzeiro do oeste',\n",
       " 'nazare paulista',\n",
       " 'riversul',\n",
       " 'iguaracu',\n",
       " 'maracas',\n",
       " 'parana',\n",
       " 'reboucas',\n",
       " 'ametista do sul',\n",
       " 'itu',\n",
       " 'cacu',\n",
       " 'vespasiano',\n",
       " 'lindolfo collor',\n",
       " 'sao lourenco',\n",
       " 'santana do sobrado',\n",
       " 'cafelandia',\n",
       " 'ibiapina',\n",
       " 'schroeder',\n",
       " 'sao joao do oriente',\n",
       " 'matao',\n",
       " 'itanhandu',\n",
       " 'santo angelo',\n",
       " 'capinopolis',\n",
       " 'colatina',\n",
       " 'nova mutum',\n",
       " 'munhoz de melo',\n",
       " 'ibate',\n",
       " 'unai',\n",
       " 'medeiros neto',\n",
       " 'anta',\n",
       " 'ouroeste',\n",
       " 'central',\n",
       " 'nova independencia',\n",
       " 'itapema',\n",
       " 'sao jose do cedro',\n",
       " 'camutanga',\n",
       " 'ipumirim',\n",
       " 'cristalia',\n",
       " 'andira',\n",
       " 'panelas',\n",
       " 'comodoro',\n",
       " 'domingos martins',\n",
       " 'tangua',\n",
       " 'sao gotardo',\n",
       " 'araguaina',\n",
       " 'ilheus',\n",
       " 'louveira',\n",
       " 'imbituba',\n",
       " 'ouricuri',\n",
       " 'itatinga',\n",
       " 'santo cristo',\n",
       " \"arraial d'ajuda\",\n",
       " 'piracanjuba',\n",
       " 'russas',\n",
       " 'lambari',\n",
       " 'vargem alta',\n",
       " 'sacra familia do tingua',\n",
       " 'assis chateaubriand',\n",
       " 'lago da pedra',\n",
       " 'unistalda',\n",
       " 'sao joao evangelista',\n",
       " 'paramirim',\n",
       " 'goias',\n",
       " 'paracuru',\n",
       " 'cruz alta',\n",
       " 'presidente bernardes',\n",
       " 'pains',\n",
       " 'sao goncalo do rio preto',\n",
       " 'jacinto machado',\n",
       " 'sobralia',\n",
       " 'maraba',\n",
       " 'paraibuna',\n",
       " 'toropi',\n",
       " 'jauru',\n",
       " 'cristalandia',\n",
       " 'castelo do piaui',\n",
       " 'ibipora',\n",
       " 'presidente dutra',\n",
       " 'vera cruz',\n",
       " 'paulo frontin',\n",
       " ...]"
      ]
     },
     "execution_count": 44,
     "metadata": {},
     "output_type": "execute_result"
    }
   ],
   "source": [
    "customer['customer_city'].unique().tolist()"
   ]
  },
  {
   "cell_type": "markdown",
   "id": "f9e1646a-757c-4a51-8b6c-837598414c64",
   "metadata": {
    "jp-MarkdownHeadingCollapsed": true,
    "tags": []
   },
   "source": [
    "#### Tabel Customer: Identifikasi Data Duplicated"
   ]
  },
  {
   "cell_type": "code",
   "execution_count": 45,
   "id": "070841a8-b952-4e47-bc11-aa01f98c5cc5",
   "metadata": {},
   "outputs": [
    {
     "data": {
      "text/plain": [
       "False"
      ]
     },
     "execution_count": 45,
     "metadata": {},
     "output_type": "execute_result"
    }
   ],
   "source": [
    "customer.duplicated().any()"
   ]
  },
  {
   "cell_type": "code",
   "execution_count": 46,
   "id": "1567b3df-552f-42a5-b8a9-6bbb8c77b167",
   "metadata": {},
   "outputs": [
    {
     "data": {
      "text/plain": [
       "customers_id                99441\n",
       "customers_uniq_id           96096\n",
       "customer_zip_code_prefix    14994\n",
       "customer_city                4119\n",
       "customer_state                 27\n",
       "dtype: int64"
      ]
     },
     "execution_count": 46,
     "metadata": {},
     "output_type": "execute_result"
    }
   ],
   "source": [
    "customer.nunique()"
   ]
  },
  {
   "cell_type": "code",
   "execution_count": 47,
   "id": "25922ebe-da16-448f-94cf-6867cc76c90d",
   "metadata": {},
   "outputs": [
    {
     "data": {
      "text/plain": [
       "True"
      ]
     },
     "execution_count": 47,
     "metadata": {},
     "output_type": "execute_result"
    }
   ],
   "source": [
    "customer['customers_uniq_id'].duplicated().any()"
   ]
  },
  {
   "cell_type": "markdown",
   "id": "7f74dee6-a921-4273-b8ea-099c7c6bfdec",
   "metadata": {
    "tags": []
   },
   "source": [
    "## Analisis"
   ]
  },
  {
   "cell_type": "markdown",
   "id": "6552f0a6-bc48-4344-ab69-254e0723263b",
   "metadata": {
    "tags": []
   },
   "source": [
    "### Objective 1: Perusahaan ingin mengetahui 5 Produk yang paling diminati/paling banyak diorder.\n",
    "\n",
    "Kita bisa menghitung jumlah kemunculan product_id pada tabel order_items"
   ]
  },
  {
   "cell_type": "code",
   "execution_count": 48,
   "id": "17dcfdd0-3f79-4f71-8411-0a211f14cf83",
   "metadata": {},
   "outputs": [],
   "source": [
    "obj1 = order_items"
   ]
  },
  {
   "cell_type": "code",
   "execution_count": 49,
   "id": "daae99d7-5825-4722-a812-012e26d3517c",
   "metadata": {},
   "outputs": [],
   "source": [
    "obj1 = pd.DataFrame(obj1['product_id'].value_counts())"
   ]
  },
  {
   "cell_type": "code",
   "execution_count": 50,
   "id": "ad25d1f7-34c0-40b6-9bd4-9f7c36a183e0",
   "metadata": {},
   "outputs": [],
   "source": [
    "obj1 = obj1.nlargest(5,'product_id').reset_index()"
   ]
  },
  {
   "cell_type": "code",
   "execution_count": 51,
   "id": "4aee2653-c48d-4926-8c60-2b3b47e5bc7e",
   "metadata": {},
   "outputs": [
    {
     "data": {
      "text/html": [
       "<div>\n",
       "<style scoped>\n",
       "    .dataframe tbody tr th:only-of-type {\n",
       "        vertical-align: middle;\n",
       "    }\n",
       "\n",
       "    .dataframe tbody tr th {\n",
       "        vertical-align: top;\n",
       "    }\n",
       "\n",
       "    .dataframe thead th {\n",
       "        text-align: right;\n",
       "    }\n",
       "</style>\n",
       "<table border=\"1\" class=\"dataframe\">\n",
       "  <thead>\n",
       "    <tr style=\"text-align: right;\">\n",
       "      <th></th>\n",
       "      <th>index</th>\n",
       "      <th>product_id</th>\n",
       "    </tr>\n",
       "  </thead>\n",
       "  <tbody>\n",
       "    <tr>\n",
       "      <th>0</th>\n",
       "      <td>aca2eb7d00ea1a7b8ebd4e68314663af</td>\n",
       "      <td>527</td>\n",
       "    </tr>\n",
       "    <tr>\n",
       "      <th>1</th>\n",
       "      <td>99a4788cb24856965c36a24e339b6058</td>\n",
       "      <td>488</td>\n",
       "    </tr>\n",
       "    <tr>\n",
       "      <th>2</th>\n",
       "      <td>422879e10f46682990de24d770e7f83d</td>\n",
       "      <td>484</td>\n",
       "    </tr>\n",
       "    <tr>\n",
       "      <th>3</th>\n",
       "      <td>389d119b48cf3043d311335e499d9c6b</td>\n",
       "      <td>392</td>\n",
       "    </tr>\n",
       "    <tr>\n",
       "      <th>4</th>\n",
       "      <td>368c6c730842d78016ad823897a372db</td>\n",
       "      <td>388</td>\n",
       "    </tr>\n",
       "  </tbody>\n",
       "</table>\n",
       "</div>"
      ],
      "text/plain": [
       "                              index  product_id\n",
       "0  aca2eb7d00ea1a7b8ebd4e68314663af         527\n",
       "1  99a4788cb24856965c36a24e339b6058         488\n",
       "2  422879e10f46682990de24d770e7f83d         484\n",
       "3  389d119b48cf3043d311335e499d9c6b         392\n",
       "4  368c6c730842d78016ad823897a372db         388"
      ]
     },
     "execution_count": 51,
     "metadata": {},
     "output_type": "execute_result"
    }
   ],
   "source": [
    "obj1"
   ]
  },
  {
   "cell_type": "code",
   "execution_count": 52,
   "id": "9f6b5acc-cd5c-4af7-94f6-342e8dd684da",
   "metadata": {},
   "outputs": [],
   "source": [
    "obj1 = obj1.rename(columns={'product_id': 'product_id_count'})\n",
    "obj1 = obj1.rename(columns={'index': 'product_id'})"
   ]
  },
  {
   "cell_type": "code",
   "execution_count": 53,
   "id": "741129a9-c4b1-4548-ad7c-bac5f0e62aa1",
   "metadata": {},
   "outputs": [],
   "source": [
    "obj1 = pd.merge(obj1,products,on='product_id',how='left')"
   ]
  },
  {
   "cell_type": "code",
   "execution_count": 54,
   "id": "39ab9f46-57f9-4ee3-94dc-0bf6223b0e0b",
   "metadata": {},
   "outputs": [],
   "source": [
    "obj1 = obj1[['product_id','product_id_count','product_category_name']]"
   ]
  },
  {
   "cell_type": "code",
   "execution_count": 55,
   "id": "5fbeb553-9746-42df-8633-0aef7df7ccb5",
   "metadata": {},
   "outputs": [
    {
     "ename": "SyntaxError",
     "evalue": "invalid syntax (3251293748.py, line 1)",
     "output_type": "error",
     "traceback": [
      "\u001b[1;36m  File \u001b[1;32m\"C:\\Users\\rybim\\AppData\\Local\\Temp\\ipykernel_13656\\3251293748.py\"\u001b[1;36m, line \u001b[1;32m1\u001b[0m\n\u001b[1;33m    obj1[]\u001b[0m\n\u001b[1;37m         ^\u001b[0m\n\u001b[1;31mSyntaxError\u001b[0m\u001b[1;31m:\u001b[0m invalid syntax\n"
     ]
    }
   ],
   "source": [
    "obj1[]"
   ]
  },
  {
   "cell_type": "code",
   "execution_count": null,
   "id": "f28405da-e615-4ed1-9d99-c406e5bbbccd",
   "metadata": {},
   "outputs": [],
   "source": [
    "sns.barplot(data=obj1,x='product_id_count', y='product_id')\n",
    "for index, row in obj1.iterrows():\n",
    "    plt.annotate(row['product_id_count'], xy=(row['product_id_count'],row.name), ha='center', va='bottom')\n",
    "    plt.annotate(row['product_category_name'], xy=(row['product_id_count'],row.name), ha='center', va='top')\n",
    "plt.show()"
   ]
  },
  {
   "cell_type": "markdown",
   "id": "1ed134eb-44aa-4d8d-9c41-6b288e0c4ba9",
   "metadata": {
    "tags": []
   },
   "source": [
    "### Objective 2: Perusahaan ingin melihat total penjualan dari tiap kategori product\n",
    "Kita bisa melihat total penjualan tiap kategori dengan menjumlahkan nilai terjual pada tabel order item dan mencocokkan kategori produk di tabel products"
   ]
  },
  {
   "cell_type": "code",
   "execution_count": null,
   "id": "908194d4-420e-4ca0-bee3-b47cb19245a7",
   "metadata": {},
   "outputs": [],
   "source": [
    "obj2 = pd.merge(order_items,products,on='product_id',how='left')"
   ]
  },
  {
   "cell_type": "code",
   "execution_count": null,
   "id": "91458273-13ca-4d9f-a8e4-b81589bff06a",
   "metadata": {},
   "outputs": [],
   "source": [
    "obj2 = pd.DataFrame(obj2.groupby('product_category_name')['price'].sum().sort_values(ascending=False)).reset_index()"
   ]
  },
  {
   "cell_type": "code",
   "execution_count": null,
   "id": "f35d2652-6569-4fb3-bfc5-e66ce12eb6cd",
   "metadata": {},
   "outputs": [],
   "source": [
    "obj2 = obj2.rename(columns={'price': 'total_price'})"
   ]
  },
  {
   "cell_type": "code",
   "execution_count": null,
   "id": "9f95f451-03df-4eca-a798-a9b10704f2e3",
   "metadata": {},
   "outputs": [],
   "source": [
    "obj2 = obj2.nlargest(10,'total_price')"
   ]
  },
  {
   "cell_type": "code",
   "execution_count": null,
   "id": "43f194fc-7188-4857-aec0-44d0aaa47dd9",
   "metadata": {},
   "outputs": [],
   "source": [
    "sns.barplot(data=obj2,y='product_category_name', x='total_price')\n",
    "for index, row in obj2.iterrows():\n",
    "    plt.annotate(row['total_price'], xy=(row['total_price'],row.name), ha='center', va='bottom')\n",
    "plt.show()"
   ]
  },
  {
   "cell_type": "markdown",
   "id": "feed4acc-8ace-41a3-93ba-df3186eb7030",
   "metadata": {
    "tags": []
   },
   "source": [
    "### Objective 3: Perusahaan menginginkan informasi pertumbuhan pemesanan produk dari 5produk yang paling diminati.\n",
    "Kita bisa melihat pertumbuhan penjualan dari gabungan tabel order_item dan tabel order"
   ]
  },
  {
   "cell_type": "code",
   "execution_count": null,
   "id": "2c6879b0-4dab-45f6-8b4f-74ca8e0fe656",
   "metadata": {},
   "outputs": [],
   "source": [
    "obj3 = pd.merge(order_items,order,on='order_id',how='left')"
   ]
  },
  {
   "cell_type": "code",
   "execution_count": null,
   "id": "25d4afcc-842a-463a-a459-ea544aaaaf9f",
   "metadata": {},
   "outputs": [],
   "source": [
    "obj3.isnull().mean() *100"
   ]
  },
  {
   "cell_type": "code",
   "execution_count": null,
   "id": "f45e761e-5f04-42d0-857c-baec558446b2",
   "metadata": {},
   "outputs": [],
   "source": [
    "obj3 = obj3.dropna()"
   ]
  },
  {
   "cell_type": "markdown",
   "id": "bbea519d-37e0-4949-8d19-cc8514eadcd9",
   "metadata": {},
   "source": [
    "Kita ingin membagi pertumbuhan penjualan dengan nilai per bulan, maka kita dapat membuat kolom baru bernama 'month_year'"
   ]
  },
  {
   "cell_type": "code",
   "execution_count": null,
   "id": "25bfb2e9-6b48-4699-810f-5348aa96564b",
   "metadata": {},
   "outputs": [],
   "source": [
    "obj3 = obj3[['order_id','order_item_id','product_id','order_delivered_customer_date']]\n",
    "obj3['month_year'] = obj3['order_delivered_customer_date'].dt.strftime('%Y-%m')"
   ]
  },
  {
   "cell_type": "code",
   "execution_count": null,
   "id": "15f5b236-c591-49fb-8056-a9e12ef270e5",
   "metadata": {},
   "outputs": [],
   "source": [
    "obj3"
   ]
  },
  {
   "cell_type": "code",
   "execution_count": null,
   "id": "c1c1df9c-bb92-441b-90de-19943ab52076",
   "metadata": {},
   "outputs": [],
   "source": [
    "top_5 = obj1['product_id'].to_list()"
   ]
  },
  {
   "cell_type": "code",
   "execution_count": null,
   "id": "aaf39ae1-60e4-4b56-9c66-85961d8cbb55",
   "metadata": {},
   "outputs": [],
   "source": [
    "top_5"
   ]
  },
  {
   "cell_type": "code",
   "execution_count": null,
   "id": "324423ab-738b-43a5-bdeb-d71e56a07da7",
   "metadata": {},
   "outputs": [],
   "source": [
    "obj3 = obj3[obj3['product_id'].isin(top_5)]"
   ]
  },
  {
   "cell_type": "code",
   "execution_count": null,
   "id": "121b7487-6003-4778-9bd2-12b0628bd4fd",
   "metadata": {},
   "outputs": [],
   "source": [
    "obj3 = pd.merge(obj3,products,on='product_id',how='left')[['order_id','product_id','month_year','product_category_name']]"
   ]
  },
  {
   "cell_type": "code",
   "execution_count": null,
   "id": "a8d75e84-3098-48ee-ae41-d07de5d2f994",
   "metadata": {},
   "outputs": [],
   "source": [
    "obj3"
   ]
  },
  {
   "cell_type": "code",
   "execution_count": null,
   "id": "be543dc9-5b41-437b-9adb-bfe4de3909a0",
   "metadata": {
    "tags": []
   },
   "outputs": [],
   "source": [
    "obj3['product_desc'] = obj3.apply(lambda row: row['product_id'] + '; ' + row['product_category_name'], axis=1)"
   ]
  },
  {
   "cell_type": "code",
   "execution_count": null,
   "id": "c21281f0-74f3-4991-820d-f90dd869fb64",
   "metadata": {},
   "outputs": [],
   "source": [
    "obj3['order_count'] = 1"
   ]
  },
  {
   "cell_type": "code",
   "execution_count": null,
   "id": "9d9bbc0f-7c32-4ea3-bf29-390df49be9ae",
   "metadata": {},
   "outputs": [],
   "source": [
    "obj3 = pd.pivot_table(data=obj3,values='order_count',index='month_year',columns='product_desc',aggfunc='count')"
   ]
  },
  {
   "cell_type": "code",
   "execution_count": null,
   "id": "ba679911-e3e7-43ca-b136-490da64f2fe0",
   "metadata": {},
   "outputs": [],
   "source": [
    "obj3 = obj3.sort_index(axis=0)"
   ]
  },
  {
   "cell_type": "code",
   "execution_count": null,
   "id": "c0811e90-a701-4e58-9270-9fa69d1bb744",
   "metadata": {},
   "outputs": [],
   "source": [
    "obj3"
   ]
  },
  {
   "cell_type": "code",
   "execution_count": null,
   "id": "c11160f9-0804-4f9c-9001-9796a5970fd0",
   "metadata": {},
   "outputs": [],
   "source": [
    "plt.figure(figsize=(20,6))\n",
    "sns.lineplot(data=obj3)\n",
    "plt.show()"
   ]
  },
  {
   "cell_type": "markdown",
   "id": "8729c98a-6d37-4e1f-9361-71d4b80217a6",
   "metadata": {},
   "source": [
    "### Objective 4: Perusahaan ingin mengetahui customer di kota mana saja yang paling banyak menggunakan metode pembayaran kartu kredit"
   ]
  },
  {
   "cell_type": "markdown",
   "id": "b32a394c-ffea-48bb-954e-2c60a2c5aee8",
   "metadata": {},
   "source": [
    "### Objective 5: Perusahaan ingin mengetahui bagaimana sebaran nilai pembayaran di area yang paling banyak menggunakan metode kartu kredit"
   ]
  }
 ],
 "metadata": {
  "kernelspec": {
   "display_name": "Python 3 (ipykernel)",
   "language": "python",
   "name": "python3"
  },
  "language_info": {
   "codemirror_mode": {
    "name": "ipython",
    "version": 3
   },
   "file_extension": ".py",
   "mimetype": "text/x-python",
   "name": "python",
   "nbconvert_exporter": "python",
   "pygments_lexer": "ipython3",
   "version": "3.9.13"
  }
 },
 "nbformat": 4,
 "nbformat_minor": 5
}
